{
  "metadata": {
    "kernelspec": {
      "language": "python",
      "display_name": "Python 3",
      "name": "python3"
    },
    "language_info": {
      "name": "python",
      "version": "3.10.13",
      "mimetype": "text/x-python",
      "codemirror_mode": {
        "name": "ipython",
        "version": 3
      },
      "pygments_lexer": "ipython3",
      "nbconvert_exporter": "python",
      "file_extension": ".py"
    },
    "kaggle": {
      "accelerator": "none",
      "dataSources": [
        {
          "sourceId": 982,
          "sourceType": "datasetVersion",
          "datasetId": 483
        }
      ],
      "dockerImageVersionId": 30664,
      "isInternetEnabled": true,
      "language": "python",
      "sourceType": "notebook",
      "isGpuEnabled": false
    },
    "colab": {
      "name": "Bag of Words",
      "provenance": []
    }
  },
  "nbformat_minor": 0,
  "nbformat": 4,
  "cells": [
    {
      "source": [
        "\n",
        "# IMPORTANT: RUN THIS CELL IN ORDER TO IMPORT YOUR KAGGLE DATA SOURCES\n",
        "# TO THE CORRECT LOCATION (/kaggle/input) IN YOUR NOTEBOOK,\n",
        "# THEN FEEL FREE TO DELETE THIS CELL.\n",
        "# NOTE: THIS NOTEBOOK ENVIRONMENT DIFFERS FROM KAGGLE'S PYTHON\n",
        "# ENVIRONMENT SO THERE MAY BE MISSING LIBRARIES USED BY YOUR\n",
        "# NOTEBOOK.\n",
        "\n",
        "import os\n",
        "import sys\n",
        "from tempfile import NamedTemporaryFile\n",
        "from urllib.request import urlopen\n",
        "from urllib.parse import unquote, urlparse\n",
        "from urllib.error import HTTPError\n",
        "from zipfile import ZipFile\n",
        "import tarfile\n",
        "import shutil\n",
        "\n",
        "CHUNK_SIZE = 40960\n",
        "DATA_SOURCE_MAPPING = 'sms-spam-collection-dataset:https%3A%2F%2Fstorage.googleapis.com%2Fkaggle-data-sets%2F483%2F982%2Fbundle%2Farchive.zip%3FX-Goog-Algorithm%3DGOOG4-RSA-SHA256%26X-Goog-Credential%3Dgcp-kaggle-com%2540kaggle-161607.iam.gserviceaccount.com%252F20240311%252Fauto%252Fstorage%252Fgoog4_request%26X-Goog-Date%3D20240311T083018Z%26X-Goog-Expires%3D259200%26X-Goog-SignedHeaders%3Dhost%26X-Goog-Signature%3Dcb2f54656fadd1b22fe13599769b6dff90d868b44b22feb78a29986dde186a4cdbd910ba2d56a89c60c9bae6e94f5e1b5cb68a6343b56e181d53fa4301fa30acb978c739edde270754fea3dccc190062a3b07fdc7dee19905cd2557d96b15e5f6047f06335fad482004f6642226b19e563743ea2d8e72a821bc28ccb035657f6a03f1eb33d8e4ecb47e26113b1862f155615e917ee7fb860b9d1fd7dec04bea8cee3a7943d95e8f19bcc172f128eb7bfae6b013f741d758d20d3460b70fae4593afcf48b526aac113a20c72868af9fa7367d1b96ef260bef1da0d86cbb4d20014e982cbeee93d42085a284ceb7fd077b4a19f12e0d3084bb4e6fea8d422e7131'\n",
        "\n",
        "KAGGLE_INPUT_PATH='/kaggle/input'\n",
        "KAGGLE_WORKING_PATH='/kaggle/working'\n",
        "KAGGLE_SYMLINK='kaggle'\n",
        "\n",
        "!umount /kaggle/input/ 2> /dev/null\n",
        "shutil.rmtree('/kaggle/input', ignore_errors=True)\n",
        "os.makedirs(KAGGLE_INPUT_PATH, 0o777, exist_ok=True)\n",
        "os.makedirs(KAGGLE_WORKING_PATH, 0o777, exist_ok=True)\n",
        "\n",
        "try:\n",
        "  os.symlink(KAGGLE_INPUT_PATH, os.path.join(\"..\", 'input'), target_is_directory=True)\n",
        "except FileExistsError:\n",
        "  pass\n",
        "try:\n",
        "  os.symlink(KAGGLE_WORKING_PATH, os.path.join(\"..\", 'working'), target_is_directory=True)\n",
        "except FileExistsError:\n",
        "  pass\n",
        "\n",
        "for data_source_mapping in DATA_SOURCE_MAPPING.split(','):\n",
        "    directory, download_url_encoded = data_source_mapping.split(':')\n",
        "    download_url = unquote(download_url_encoded)\n",
        "    filename = urlparse(download_url).path\n",
        "    destination_path = os.path.join(KAGGLE_INPUT_PATH, directory)\n",
        "    try:\n",
        "        with urlopen(download_url) as fileres, NamedTemporaryFile() as tfile:\n",
        "            total_length = fileres.headers['content-length']\n",
        "            print(f'Downloading {directory}, {total_length} bytes compressed')\n",
        "            dl = 0\n",
        "            data = fileres.read(CHUNK_SIZE)\n",
        "            while len(data) > 0:\n",
        "                dl += len(data)\n",
        "                tfile.write(data)\n",
        "                done = int(50 * dl / int(total_length))\n",
        "                sys.stdout.write(f\"\\r[{'=' * done}{' ' * (50-done)}] {dl} bytes downloaded\")\n",
        "                sys.stdout.flush()\n",
        "                data = fileres.read(CHUNK_SIZE)\n",
        "            if filename.endswith('.zip'):\n",
        "              with ZipFile(tfile) as zfile:\n",
        "                zfile.extractall(destination_path)\n",
        "            else:\n",
        "              with tarfile.open(tfile.name) as tarfile:\n",
        "                tarfile.extractall(destination_path)\n",
        "            print(f'\\nDownloaded and uncompressed: {directory}')\n",
        "    except HTTPError as e:\n",
        "        print(f'Failed to load (likely expired) {download_url} to path {destination_path}')\n",
        "        continue\n",
        "    except OSError as e:\n",
        "        print(f'Failed to load {download_url} to path {destination_path}')\n",
        "        continue\n",
        "\n",
        "print('Data source import complete.')\n"
      ],
      "metadata": {
        "id": "QkY1gPATomYs",
        "outputId": "b5d1c00f-a889-4a76-fe61-f3c4a6e1bea7",
        "colab": {
          "base_uri": "https://localhost:8080/"
        }
      },
      "cell_type": "code",
      "outputs": [
        {
          "output_type": "stream",
          "name": "stdout",
          "text": [
            "Downloading sms-spam-collection-dataset, 215934 bytes compressed\n",
            "[==================================================] 215934 bytes downloaded\n",
            "Downloaded and uncompressed: sms-spam-collection-dataset\n",
            "Data source import complete.\n"
          ]
        }
      ],
      "execution_count": 1
    },
    {
      "cell_type": "markdown",
      "source": [
        "# Important Libraries"
      ],
      "metadata": {
        "id": "iak2idUIomYw"
      }
    },
    {
      "cell_type": "code",
      "source": [
        "import pandas as pd\n",
        "import matplotlib.pyplot as plt\n",
        "\n",
        "from sklearn.model_selection import train_test_split\n",
        "from sklearn.feature_extraction.text import CountVectorizer\n",
        "from sklearn.naive_bayes import MultinomialNB\n",
        "from sklearn.metrics import classification_report\n",
        "\n",
        "from wordcloud import WordCloud\n",
        "import os"
      ],
      "metadata": {
        "_uuid": "8f2839f25d086af736a60e9eeb907d3b93b6e0e5",
        "_cell_guid": "b1076dfc-b9ad-4769-8c92-a6c4dae69d19",
        "execution": {
          "iopub.status.busy": "2024-03-11T08:16:14.559073Z",
          "iopub.execute_input": "2024-03-11T08:16:14.559979Z",
          "iopub.status.idle": "2024-03-11T08:16:16.53177Z",
          "shell.execute_reply.started": "2024-03-11T08:16:14.559941Z",
          "shell.execute_reply": "2024-03-11T08:16:16.530924Z"
        },
        "trusted": true,
        "id": "b4zfmAQaomYy"
      },
      "execution_count": 2,
      "outputs": []
    },
    {
      "cell_type": "markdown",
      "source": [
        "# Reading & Exploring Data"
      ],
      "metadata": {
        "id": "P--GxcFOomYy"
      }
    },
    {
      "cell_type": "code",
      "source": [
        "data = pd.read_csv(\"/kaggle/input/sms-spam-collection-dataset/spam.csv\", encoding='latin1')"
      ],
      "metadata": {
        "execution": {
          "iopub.status.busy": "2024-03-11T08:16:16.533429Z",
          "iopub.execute_input": "2024-03-11T08:16:16.53382Z",
          "iopub.status.idle": "2024-03-11T08:16:16.585105Z",
          "shell.execute_reply.started": "2024-03-11T08:16:16.533795Z",
          "shell.execute_reply": "2024-03-11T08:16:16.584345Z"
        },
        "trusted": true,
        "id": "9RtI4PKJomYz"
      },
      "execution_count": 3,
      "outputs": []
    },
    {
      "cell_type": "code",
      "source": [
        "data.head"
      ],
      "metadata": {
        "execution": {
          "iopub.status.busy": "2024-03-11T08:16:16.589342Z",
          "iopub.execute_input": "2024-03-11T08:16:16.589742Z",
          "iopub.status.idle": "2024-03-11T08:16:16.605999Z",
          "shell.execute_reply.started": "2024-03-11T08:16:16.58972Z",
          "shell.execute_reply": "2024-03-11T08:16:16.605229Z"
        },
        "trusted": true,
        "id": "IxS1L6wsomYz",
        "outputId": "e1f70ad0-884e-4b3a-d41f-9c59b53e4e84",
        "colab": {
          "base_uri": "https://localhost:8080/",
          "height": 187
        }
      },
      "execution_count": 4,
      "outputs": [
        {
          "output_type": "execute_result",
          "data": {
            "text/plain": [
              "<bound method NDFrame.head of         v1                                                 v2 Unnamed: 2  \\\n",
              "0      ham  Go until jurong point, crazy.. Available only ...        NaN   \n",
              "1      ham                      Ok lar... Joking wif u oni...        NaN   \n",
              "2     spam  Free entry in 2 a wkly comp to win FA Cup fina...        NaN   \n",
              "3      ham  U dun say so early hor... U c already then say...        NaN   \n",
              "4      ham  Nah I don't think he goes to usf, he lives aro...        NaN   \n",
              "...    ...                                                ...        ...   \n",
              "5567  spam  This is the 2nd time we have tried 2 contact u...        NaN   \n",
              "5568   ham              Will Ì_ b going to esplanade fr home?        NaN   \n",
              "5569   ham  Pity, * was in mood for that. So...any other s...        NaN   \n",
              "5570   ham  The guy did some bitching but I acted like i'd...        NaN   \n",
              "5571   ham                         Rofl. Its true to its name        NaN   \n",
              "\n",
              "     Unnamed: 3 Unnamed: 4  \n",
              "0           NaN        NaN  \n",
              "1           NaN        NaN  \n",
              "2           NaN        NaN  \n",
              "3           NaN        NaN  \n",
              "4           NaN        NaN  \n",
              "...         ...        ...  \n",
              "5567        NaN        NaN  \n",
              "5568        NaN        NaN  \n",
              "5569        NaN        NaN  \n",
              "5570        NaN        NaN  \n",
              "5571        NaN        NaN  \n",
              "\n",
              "[5572 rows x 5 columns]>"
            ],
            "text/html": [
              "<div style=\"max-width:800px; border: 1px solid var(--colab-border-color);\"><style>\n",
              "      pre.function-repr-contents {\n",
              "        overflow-x: auto;\n",
              "        padding: 8px 12px;\n",
              "        max-height: 500px;\n",
              "      }\n",
              "\n",
              "      pre.function-repr-contents.function-repr-contents-collapsed {\n",
              "        cursor: pointer;\n",
              "        max-height: 100px;\n",
              "      }\n",
              "    </style>\n",
              "    <pre style=\"white-space: initial; background:\n",
              "         var(--colab-secondary-surface-color); padding: 8px 12px;\n",
              "         border-bottom: 1px solid var(--colab-border-color);\"><b>pandas.core.generic.NDFrame.head</b><br/>def head(n: int=5) -&gt; NDFrameT</pre><pre class=\"function-repr-contents function-repr-contents-collapsed\" style=\"\"><a class=\"filepath\" style=\"display:none\" href=\"#\">/usr/local/lib/python3.10/dist-packages/pandas/core/generic.py</a>Return the first `n` rows.\n",
              "\n",
              "This function returns the first `n` rows for the object based\n",
              "on position. It is useful for quickly testing if your object\n",
              "has the right type of data in it.\n",
              "\n",
              "For negative values of `n`, this function returns all rows except\n",
              "the last `|n|` rows, equivalent to ``df[:n]``.\n",
              "\n",
              "If n is larger than the number of rows, this function returns all rows.\n",
              "\n",
              "Parameters\n",
              "----------\n",
              "n : int, default 5\n",
              "    Number of rows to select.\n",
              "\n",
              "Returns\n",
              "-------\n",
              "same type as caller\n",
              "    The first `n` rows of the caller object.\n",
              "\n",
              "See Also\n",
              "--------\n",
              "DataFrame.tail: Returns the last `n` rows.\n",
              "\n",
              "Examples\n",
              "--------\n",
              "&gt;&gt;&gt; df = pd.DataFrame({&#x27;animal&#x27;: [&#x27;alligator&#x27;, &#x27;bee&#x27;, &#x27;falcon&#x27;, &#x27;lion&#x27;,\n",
              "...                    &#x27;monkey&#x27;, &#x27;parrot&#x27;, &#x27;shark&#x27;, &#x27;whale&#x27;, &#x27;zebra&#x27;]})\n",
              "&gt;&gt;&gt; df\n",
              "      animal\n",
              "0  alligator\n",
              "1        bee\n",
              "2     falcon\n",
              "3       lion\n",
              "4     monkey\n",
              "5     parrot\n",
              "6      shark\n",
              "7      whale\n",
              "8      zebra\n",
              "\n",
              "Viewing the first 5 lines\n",
              "\n",
              "&gt;&gt;&gt; df.head()\n",
              "      animal\n",
              "0  alligator\n",
              "1        bee\n",
              "2     falcon\n",
              "3       lion\n",
              "4     monkey\n",
              "\n",
              "Viewing the first `n` lines (three in this case)\n",
              "\n",
              "&gt;&gt;&gt; df.head(3)\n",
              "      animal\n",
              "0  alligator\n",
              "1        bee\n",
              "2     falcon\n",
              "\n",
              "For negative values of `n`\n",
              "\n",
              "&gt;&gt;&gt; df.head(-3)\n",
              "      animal\n",
              "0  alligator\n",
              "1        bee\n",
              "2     falcon\n",
              "3       lion\n",
              "4     monkey\n",
              "5     parrot</pre>\n",
              "      <script>\n",
              "      if (google.colab.kernel.accessAllowed && google.colab.files && google.colab.files.view) {\n",
              "        for (const element of document.querySelectorAll('.filepath')) {\n",
              "          element.style.display = 'block'\n",
              "          element.onclick = (event) => {\n",
              "            event.preventDefault();\n",
              "            event.stopPropagation();\n",
              "            google.colab.files.view(element.textContent, 5474);\n",
              "          };\n",
              "        }\n",
              "      }\n",
              "      for (const element of document.querySelectorAll('.function-repr-contents')) {\n",
              "        element.onclick = (event) => {\n",
              "          event.preventDefault();\n",
              "          event.stopPropagation();\n",
              "          element.classList.toggle('function-repr-contents-collapsed');\n",
              "        };\n",
              "      }\n",
              "      </script>\n",
              "      </div>"
            ]
          },
          "metadata": {},
          "execution_count": 4
        }
      ]
    },
    {
      "cell_type": "code",
      "source": [
        "data.columns"
      ],
      "metadata": {
        "execution": {
          "iopub.status.busy": "2024-03-11T08:16:16.607309Z",
          "iopub.execute_input": "2024-03-11T08:16:16.607794Z",
          "iopub.status.idle": "2024-03-11T08:16:16.6132Z",
          "shell.execute_reply.started": "2024-03-11T08:16:16.607772Z",
          "shell.execute_reply": "2024-03-11T08:16:16.612409Z"
        },
        "trusted": true,
        "id": "9igRDZFpomY0",
        "outputId": "802ece7e-31d8-4a3c-eef7-93fdc7d560e2",
        "colab": {
          "base_uri": "https://localhost:8080/"
        }
      },
      "execution_count": 5,
      "outputs": [
        {
          "output_type": "execute_result",
          "data": {
            "text/plain": [
              "Index(['v1', 'v2', 'Unnamed: 2', 'Unnamed: 3', 'Unnamed: 4'], dtype='object')"
            ]
          },
          "metadata": {},
          "execution_count": 5
        }
      ]
    },
    {
      "cell_type": "code",
      "source": [
        "data.v1"
      ],
      "metadata": {
        "execution": {
          "iopub.status.busy": "2024-03-11T08:16:16.613884Z",
          "iopub.execute_input": "2024-03-11T08:16:16.61409Z",
          "iopub.status.idle": "2024-03-11T08:16:16.630549Z",
          "shell.execute_reply.started": "2024-03-11T08:16:16.614072Z",
          "shell.execute_reply": "2024-03-11T08:16:16.629778Z"
        },
        "trusted": true,
        "id": "QqnTR0WromY0",
        "outputId": "3542490c-3751-4f09-fd1c-9d37021c4963",
        "colab": {
          "base_uri": "https://localhost:8080/"
        }
      },
      "execution_count": 6,
      "outputs": [
        {
          "output_type": "execute_result",
          "data": {
            "text/plain": [
              "0        ham\n",
              "1        ham\n",
              "2       spam\n",
              "3        ham\n",
              "4        ham\n",
              "        ... \n",
              "5567    spam\n",
              "5568     ham\n",
              "5569     ham\n",
              "5570     ham\n",
              "5571     ham\n",
              "Name: v1, Length: 5572, dtype: object"
            ]
          },
          "metadata": {},
          "execution_count": 6
        }
      ]
    },
    {
      "cell_type": "code",
      "source": [
        "data.v2"
      ],
      "metadata": {
        "execution": {
          "iopub.status.busy": "2024-03-11T08:16:16.631534Z",
          "iopub.execute_input": "2024-03-11T08:16:16.631747Z",
          "iopub.status.idle": "2024-03-11T08:16:16.642735Z",
          "shell.execute_reply.started": "2024-03-11T08:16:16.631728Z",
          "shell.execute_reply": "2024-03-11T08:16:16.641952Z"
        },
        "trusted": true,
        "id": "MGTyw3VsomY1",
        "outputId": "dc72528d-94ca-49f6-eb1f-59d6dc787edb",
        "colab": {
          "base_uri": "https://localhost:8080/"
        }
      },
      "execution_count": 7,
      "outputs": [
        {
          "output_type": "execute_result",
          "data": {
            "text/plain": [
              "0       Go until jurong point, crazy.. Available only ...\n",
              "1                           Ok lar... Joking wif u oni...\n",
              "2       Free entry in 2 a wkly comp to win FA Cup fina...\n",
              "3       U dun say so early hor... U c already then say...\n",
              "4       Nah I don't think he goes to usf, he lives aro...\n",
              "                              ...                        \n",
              "5567    This is the 2nd time we have tried 2 contact u...\n",
              "5568                Will Ì_ b going to esplanade fr home?\n",
              "5569    Pity, * was in mood for that. So...any other s...\n",
              "5570    The guy did some bitching but I acted like i'd...\n",
              "5571                           Rofl. Its true to its name\n",
              "Name: v2, Length: 5572, dtype: object"
            ]
          },
          "metadata": {},
          "execution_count": 7
        }
      ]
    },
    {
      "cell_type": "code",
      "source": [
        "data['Unnamed: 2']"
      ],
      "metadata": {
        "execution": {
          "iopub.status.busy": "2024-03-11T08:16:16.6437Z",
          "iopub.execute_input": "2024-03-11T08:16:16.644493Z",
          "iopub.status.idle": "2024-03-11T08:16:16.652313Z",
          "shell.execute_reply.started": "2024-03-11T08:16:16.644467Z",
          "shell.execute_reply": "2024-03-11T08:16:16.651487Z"
        },
        "trusted": true,
        "id": "ntgHHNBBomY1",
        "outputId": "ade6ca73-e5c8-4f47-a387-2f9edcb70dea",
        "colab": {
          "base_uri": "https://localhost:8080/"
        }
      },
      "execution_count": 8,
      "outputs": [
        {
          "output_type": "execute_result",
          "data": {
            "text/plain": [
              "0       NaN\n",
              "1       NaN\n",
              "2       NaN\n",
              "3       NaN\n",
              "4       NaN\n",
              "       ... \n",
              "5567    NaN\n",
              "5568    NaN\n",
              "5569    NaN\n",
              "5570    NaN\n",
              "5571    NaN\n",
              "Name: Unnamed: 2, Length: 5572, dtype: object"
            ]
          },
          "metadata": {},
          "execution_count": 8
        }
      ]
    },
    {
      "cell_type": "code",
      "source": [
        "data['Unnamed: 3']"
      ],
      "metadata": {
        "execution": {
          "iopub.status.busy": "2024-03-11T08:16:16.65335Z",
          "iopub.execute_input": "2024-03-11T08:16:16.654117Z",
          "iopub.status.idle": "2024-03-11T08:16:16.662154Z",
          "shell.execute_reply.started": "2024-03-11T08:16:16.654091Z",
          "shell.execute_reply": "2024-03-11T08:16:16.661167Z"
        },
        "trusted": true,
        "id": "NO_vVQfdomY1",
        "outputId": "0df6ddf8-9577-42b7-95f4-21bea25ac082",
        "colab": {
          "base_uri": "https://localhost:8080/"
        }
      },
      "execution_count": 9,
      "outputs": [
        {
          "output_type": "execute_result",
          "data": {
            "text/plain": [
              "0       NaN\n",
              "1       NaN\n",
              "2       NaN\n",
              "3       NaN\n",
              "4       NaN\n",
              "       ... \n",
              "5567    NaN\n",
              "5568    NaN\n",
              "5569    NaN\n",
              "5570    NaN\n",
              "5571    NaN\n",
              "Name: Unnamed: 3, Length: 5572, dtype: object"
            ]
          },
          "metadata": {},
          "execution_count": 9
        }
      ]
    },
    {
      "cell_type": "code",
      "source": [
        "data['Unnamed: 4']"
      ],
      "metadata": {
        "execution": {
          "iopub.status.busy": "2024-03-11T08:16:16.666462Z",
          "iopub.execute_input": "2024-03-11T08:16:16.666826Z",
          "iopub.status.idle": "2024-03-11T08:16:16.67328Z",
          "shell.execute_reply.started": "2024-03-11T08:16:16.666801Z",
          "shell.execute_reply": "2024-03-11T08:16:16.67249Z"
        },
        "trusted": true,
        "id": "zaoPuiNcomY2",
        "outputId": "201a05c1-b999-407f-e44b-edc3e3c7931f",
        "colab": {
          "base_uri": "https://localhost:8080/"
        }
      },
      "execution_count": 10,
      "outputs": [
        {
          "output_type": "execute_result",
          "data": {
            "text/plain": [
              "0       NaN\n",
              "1       NaN\n",
              "2       NaN\n",
              "3       NaN\n",
              "4       NaN\n",
              "       ... \n",
              "5567    NaN\n",
              "5568    NaN\n",
              "5569    NaN\n",
              "5570    NaN\n",
              "5571    NaN\n",
              "Name: Unnamed: 4, Length: 5572, dtype: object"
            ]
          },
          "metadata": {},
          "execution_count": 10
        }
      ]
    },
    {
      "cell_type": "markdown",
      "source": [
        "# Simple Preprocessing"
      ],
      "metadata": {
        "id": "Jvr49AnPomY2"
      }
    },
    {
      "cell_type": "code",
      "source": [
        "# Renaming the important columns to be more understandable\n",
        "data = data.rename(columns={'v1': 'is_ham', 'v2': 'text'})\n",
        "\n",
        "# Selecting only important columns\n",
        "data=data.iloc[:, :2]\n",
        "\n",
        "# Encoding the label\n",
        "data['is_ham'] = (data['is_ham'] == 'ham').astype(int)\n",
        "\n",
        "data"
      ],
      "metadata": {
        "execution": {
          "iopub.status.busy": "2024-03-11T08:16:16.674244Z",
          "iopub.execute_input": "2024-03-11T08:16:16.675096Z",
          "iopub.status.idle": "2024-03-11T08:16:16.696017Z",
          "shell.execute_reply.started": "2024-03-11T08:16:16.67507Z",
          "shell.execute_reply": "2024-03-11T08:16:16.695161Z"
        },
        "trusted": true,
        "id": "LQ6gKvL5omY2",
        "outputId": "40fa332a-9cd2-48c9-b764-b329506a48de",
        "colab": {
          "base_uri": "https://localhost:8080/",
          "height": 424
        }
      },
      "execution_count": 11,
      "outputs": [
        {
          "output_type": "execute_result",
          "data": {
            "text/plain": [
              "      is_ham                                               text\n",
              "0          1  Go until jurong point, crazy.. Available only ...\n",
              "1          1                      Ok lar... Joking wif u oni...\n",
              "2          0  Free entry in 2 a wkly comp to win FA Cup fina...\n",
              "3          1  U dun say so early hor... U c already then say...\n",
              "4          1  Nah I don't think he goes to usf, he lives aro...\n",
              "...      ...                                                ...\n",
              "5567       0  This is the 2nd time we have tried 2 contact u...\n",
              "5568       1              Will Ì_ b going to esplanade fr home?\n",
              "5569       1  Pity, * was in mood for that. So...any other s...\n",
              "5570       1  The guy did some bitching but I acted like i'd...\n",
              "5571       1                         Rofl. Its true to its name\n",
              "\n",
              "[5572 rows x 2 columns]"
            ],
            "text/html": [
              "\n",
              "  <div id=\"df-cd9ca57e-e943-4202-b2d7-96f69a7eb3e2\" class=\"colab-df-container\">\n",
              "    <div>\n",
              "<style scoped>\n",
              "    .dataframe tbody tr th:only-of-type {\n",
              "        vertical-align: middle;\n",
              "    }\n",
              "\n",
              "    .dataframe tbody tr th {\n",
              "        vertical-align: top;\n",
              "    }\n",
              "\n",
              "    .dataframe thead th {\n",
              "        text-align: right;\n",
              "    }\n",
              "</style>\n",
              "<table border=\"1\" class=\"dataframe\">\n",
              "  <thead>\n",
              "    <tr style=\"text-align: right;\">\n",
              "      <th></th>\n",
              "      <th>is_ham</th>\n",
              "      <th>text</th>\n",
              "    </tr>\n",
              "  </thead>\n",
              "  <tbody>\n",
              "    <tr>\n",
              "      <th>0</th>\n",
              "      <td>1</td>\n",
              "      <td>Go until jurong point, crazy.. Available only ...</td>\n",
              "    </tr>\n",
              "    <tr>\n",
              "      <th>1</th>\n",
              "      <td>1</td>\n",
              "      <td>Ok lar... Joking wif u oni...</td>\n",
              "    </tr>\n",
              "    <tr>\n",
              "      <th>2</th>\n",
              "      <td>0</td>\n",
              "      <td>Free entry in 2 a wkly comp to win FA Cup fina...</td>\n",
              "    </tr>\n",
              "    <tr>\n",
              "      <th>3</th>\n",
              "      <td>1</td>\n",
              "      <td>U dun say so early hor... U c already then say...</td>\n",
              "    </tr>\n",
              "    <tr>\n",
              "      <th>4</th>\n",
              "      <td>1</td>\n",
              "      <td>Nah I don't think he goes to usf, he lives aro...</td>\n",
              "    </tr>\n",
              "    <tr>\n",
              "      <th>...</th>\n",
              "      <td>...</td>\n",
              "      <td>...</td>\n",
              "    </tr>\n",
              "    <tr>\n",
              "      <th>5567</th>\n",
              "      <td>0</td>\n",
              "      <td>This is the 2nd time we have tried 2 contact u...</td>\n",
              "    </tr>\n",
              "    <tr>\n",
              "      <th>5568</th>\n",
              "      <td>1</td>\n",
              "      <td>Will Ì_ b going to esplanade fr home?</td>\n",
              "    </tr>\n",
              "    <tr>\n",
              "      <th>5569</th>\n",
              "      <td>1</td>\n",
              "      <td>Pity, * was in mood for that. So...any other s...</td>\n",
              "    </tr>\n",
              "    <tr>\n",
              "      <th>5570</th>\n",
              "      <td>1</td>\n",
              "      <td>The guy did some bitching but I acted like i'd...</td>\n",
              "    </tr>\n",
              "    <tr>\n",
              "      <th>5571</th>\n",
              "      <td>1</td>\n",
              "      <td>Rofl. Its true to its name</td>\n",
              "    </tr>\n",
              "  </tbody>\n",
              "</table>\n",
              "<p>5572 rows × 2 columns</p>\n",
              "</div>\n",
              "    <div class=\"colab-df-buttons\">\n",
              "\n",
              "  <div class=\"colab-df-container\">\n",
              "    <button class=\"colab-df-convert\" onclick=\"convertToInteractive('df-cd9ca57e-e943-4202-b2d7-96f69a7eb3e2')\"\n",
              "            title=\"Convert this dataframe to an interactive table.\"\n",
              "            style=\"display:none;\">\n",
              "\n",
              "  <svg xmlns=\"http://www.w3.org/2000/svg\" height=\"24px\" viewBox=\"0 -960 960 960\">\n",
              "    <path d=\"M120-120v-720h720v720H120Zm60-500h600v-160H180v160Zm220 220h160v-160H400v160Zm0 220h160v-160H400v160ZM180-400h160v-160H180v160Zm440 0h160v-160H620v160ZM180-180h160v-160H180v160Zm440 0h160v-160H620v160Z\"/>\n",
              "  </svg>\n",
              "    </button>\n",
              "\n",
              "  <style>\n",
              "    .colab-df-container {\n",
              "      display:flex;\n",
              "      gap: 12px;\n",
              "    }\n",
              "\n",
              "    .colab-df-convert {\n",
              "      background-color: #E8F0FE;\n",
              "      border: none;\n",
              "      border-radius: 50%;\n",
              "      cursor: pointer;\n",
              "      display: none;\n",
              "      fill: #1967D2;\n",
              "      height: 32px;\n",
              "      padding: 0 0 0 0;\n",
              "      width: 32px;\n",
              "    }\n",
              "\n",
              "    .colab-df-convert:hover {\n",
              "      background-color: #E2EBFA;\n",
              "      box-shadow: 0px 1px 2px rgba(60, 64, 67, 0.3), 0px 1px 3px 1px rgba(60, 64, 67, 0.15);\n",
              "      fill: #174EA6;\n",
              "    }\n",
              "\n",
              "    .colab-df-buttons div {\n",
              "      margin-bottom: 4px;\n",
              "    }\n",
              "\n",
              "    [theme=dark] .colab-df-convert {\n",
              "      background-color: #3B4455;\n",
              "      fill: #D2E3FC;\n",
              "    }\n",
              "\n",
              "    [theme=dark] .colab-df-convert:hover {\n",
              "      background-color: #434B5C;\n",
              "      box-shadow: 0px 1px 3px 1px rgba(0, 0, 0, 0.15);\n",
              "      filter: drop-shadow(0px 1px 2px rgba(0, 0, 0, 0.3));\n",
              "      fill: #FFFFFF;\n",
              "    }\n",
              "  </style>\n",
              "\n",
              "    <script>\n",
              "      const buttonEl =\n",
              "        document.querySelector('#df-cd9ca57e-e943-4202-b2d7-96f69a7eb3e2 button.colab-df-convert');\n",
              "      buttonEl.style.display =\n",
              "        google.colab.kernel.accessAllowed ? 'block' : 'none';\n",
              "\n",
              "      async function convertToInteractive(key) {\n",
              "        const element = document.querySelector('#df-cd9ca57e-e943-4202-b2d7-96f69a7eb3e2');\n",
              "        const dataTable =\n",
              "          await google.colab.kernel.invokeFunction('convertToInteractive',\n",
              "                                                    [key], {});\n",
              "        if (!dataTable) return;\n",
              "\n",
              "        const docLinkHtml = 'Like what you see? Visit the ' +\n",
              "          '<a target=\"_blank\" href=https://colab.research.google.com/notebooks/data_table.ipynb>data table notebook</a>'\n",
              "          + ' to learn more about interactive tables.';\n",
              "        element.innerHTML = '';\n",
              "        dataTable['output_type'] = 'display_data';\n",
              "        await google.colab.output.renderOutput(dataTable, element);\n",
              "        const docLink = document.createElement('div');\n",
              "        docLink.innerHTML = docLinkHtml;\n",
              "        element.appendChild(docLink);\n",
              "      }\n",
              "    </script>\n",
              "  </div>\n",
              "\n",
              "\n",
              "<div id=\"df-8b3057fe-c5ed-43b9-971e-0040dcd9cd47\">\n",
              "  <button class=\"colab-df-quickchart\" onclick=\"quickchart('df-8b3057fe-c5ed-43b9-971e-0040dcd9cd47')\"\n",
              "            title=\"Suggest charts\"\n",
              "            style=\"display:none;\">\n",
              "\n",
              "<svg xmlns=\"http://www.w3.org/2000/svg\" height=\"24px\"viewBox=\"0 0 24 24\"\n",
              "     width=\"24px\">\n",
              "    <g>\n",
              "        <path d=\"M19 3H5c-1.1 0-2 .9-2 2v14c0 1.1.9 2 2 2h14c1.1 0 2-.9 2-2V5c0-1.1-.9-2-2-2zM9 17H7v-7h2v7zm4 0h-2V7h2v10zm4 0h-2v-4h2v4z\"/>\n",
              "    </g>\n",
              "</svg>\n",
              "  </button>\n",
              "\n",
              "<style>\n",
              "  .colab-df-quickchart {\n",
              "      --bg-color: #E8F0FE;\n",
              "      --fill-color: #1967D2;\n",
              "      --hover-bg-color: #E2EBFA;\n",
              "      --hover-fill-color: #174EA6;\n",
              "      --disabled-fill-color: #AAA;\n",
              "      --disabled-bg-color: #DDD;\n",
              "  }\n",
              "\n",
              "  [theme=dark] .colab-df-quickchart {\n",
              "      --bg-color: #3B4455;\n",
              "      --fill-color: #D2E3FC;\n",
              "      --hover-bg-color: #434B5C;\n",
              "      --hover-fill-color: #FFFFFF;\n",
              "      --disabled-bg-color: #3B4455;\n",
              "      --disabled-fill-color: #666;\n",
              "  }\n",
              "\n",
              "  .colab-df-quickchart {\n",
              "    background-color: var(--bg-color);\n",
              "    border: none;\n",
              "    border-radius: 50%;\n",
              "    cursor: pointer;\n",
              "    display: none;\n",
              "    fill: var(--fill-color);\n",
              "    height: 32px;\n",
              "    padding: 0;\n",
              "    width: 32px;\n",
              "  }\n",
              "\n",
              "  .colab-df-quickchart:hover {\n",
              "    background-color: var(--hover-bg-color);\n",
              "    box-shadow: 0 1px 2px rgba(60, 64, 67, 0.3), 0 1px 3px 1px rgba(60, 64, 67, 0.15);\n",
              "    fill: var(--button-hover-fill-color);\n",
              "  }\n",
              "\n",
              "  .colab-df-quickchart-complete:disabled,\n",
              "  .colab-df-quickchart-complete:disabled:hover {\n",
              "    background-color: var(--disabled-bg-color);\n",
              "    fill: var(--disabled-fill-color);\n",
              "    box-shadow: none;\n",
              "  }\n",
              "\n",
              "  .colab-df-spinner {\n",
              "    border: 2px solid var(--fill-color);\n",
              "    border-color: transparent;\n",
              "    border-bottom-color: var(--fill-color);\n",
              "    animation:\n",
              "      spin 1s steps(1) infinite;\n",
              "  }\n",
              "\n",
              "  @keyframes spin {\n",
              "    0% {\n",
              "      border-color: transparent;\n",
              "      border-bottom-color: var(--fill-color);\n",
              "      border-left-color: var(--fill-color);\n",
              "    }\n",
              "    20% {\n",
              "      border-color: transparent;\n",
              "      border-left-color: var(--fill-color);\n",
              "      border-top-color: var(--fill-color);\n",
              "    }\n",
              "    30% {\n",
              "      border-color: transparent;\n",
              "      border-left-color: var(--fill-color);\n",
              "      border-top-color: var(--fill-color);\n",
              "      border-right-color: var(--fill-color);\n",
              "    }\n",
              "    40% {\n",
              "      border-color: transparent;\n",
              "      border-right-color: var(--fill-color);\n",
              "      border-top-color: var(--fill-color);\n",
              "    }\n",
              "    60% {\n",
              "      border-color: transparent;\n",
              "      border-right-color: var(--fill-color);\n",
              "    }\n",
              "    80% {\n",
              "      border-color: transparent;\n",
              "      border-right-color: var(--fill-color);\n",
              "      border-bottom-color: var(--fill-color);\n",
              "    }\n",
              "    90% {\n",
              "      border-color: transparent;\n",
              "      border-bottom-color: var(--fill-color);\n",
              "    }\n",
              "  }\n",
              "</style>\n",
              "\n",
              "  <script>\n",
              "    async function quickchart(key) {\n",
              "      const quickchartButtonEl =\n",
              "        document.querySelector('#' + key + ' button');\n",
              "      quickchartButtonEl.disabled = true;  // To prevent multiple clicks.\n",
              "      quickchartButtonEl.classList.add('colab-df-spinner');\n",
              "      try {\n",
              "        const charts = await google.colab.kernel.invokeFunction(\n",
              "            'suggestCharts', [key], {});\n",
              "      } catch (error) {\n",
              "        console.error('Error during call to suggestCharts:', error);\n",
              "      }\n",
              "      quickchartButtonEl.classList.remove('colab-df-spinner');\n",
              "      quickchartButtonEl.classList.add('colab-df-quickchart-complete');\n",
              "    }\n",
              "    (() => {\n",
              "      let quickchartButtonEl =\n",
              "        document.querySelector('#df-8b3057fe-c5ed-43b9-971e-0040dcd9cd47 button');\n",
              "      quickchartButtonEl.style.display =\n",
              "        google.colab.kernel.accessAllowed ? 'block' : 'none';\n",
              "    })();\n",
              "  </script>\n",
              "</div>\n",
              "\n",
              "  <div id=\"id_53921a69-7cdd-42ea-a4a6-471690a8d734\">\n",
              "    <style>\n",
              "      .colab-df-generate {\n",
              "        background-color: #E8F0FE;\n",
              "        border: none;\n",
              "        border-radius: 50%;\n",
              "        cursor: pointer;\n",
              "        display: none;\n",
              "        fill: #1967D2;\n",
              "        height: 32px;\n",
              "        padding: 0 0 0 0;\n",
              "        width: 32px;\n",
              "      }\n",
              "\n",
              "      .colab-df-generate:hover {\n",
              "        background-color: #E2EBFA;\n",
              "        box-shadow: 0px 1px 2px rgba(60, 64, 67, 0.3), 0px 1px 3px 1px rgba(60, 64, 67, 0.15);\n",
              "        fill: #174EA6;\n",
              "      }\n",
              "\n",
              "      [theme=dark] .colab-df-generate {\n",
              "        background-color: #3B4455;\n",
              "        fill: #D2E3FC;\n",
              "      }\n",
              "\n",
              "      [theme=dark] .colab-df-generate:hover {\n",
              "        background-color: #434B5C;\n",
              "        box-shadow: 0px 1px 3px 1px rgba(0, 0, 0, 0.15);\n",
              "        filter: drop-shadow(0px 1px 2px rgba(0, 0, 0, 0.3));\n",
              "        fill: #FFFFFF;\n",
              "      }\n",
              "    </style>\n",
              "    <button class=\"colab-df-generate\" onclick=\"generateWithVariable('data')\"\n",
              "            title=\"Generate code using this dataframe.\"\n",
              "            style=\"display:none;\">\n",
              "\n",
              "  <svg xmlns=\"http://www.w3.org/2000/svg\" height=\"24px\"viewBox=\"0 0 24 24\"\n",
              "       width=\"24px\">\n",
              "    <path d=\"M7,19H8.4L18.45,9,17,7.55,7,17.6ZM5,21V16.75L18.45,3.32a2,2,0,0,1,2.83,0l1.4,1.43a1.91,1.91,0,0,1,.58,1.4,1.91,1.91,0,0,1-.58,1.4L9.25,21ZM18.45,9,17,7.55Zm-12,3A5.31,5.31,0,0,0,4.9,8.1,5.31,5.31,0,0,0,1,6.5,5.31,5.31,0,0,0,4.9,4.9,5.31,5.31,0,0,0,6.5,1,5.31,5.31,0,0,0,8.1,4.9,5.31,5.31,0,0,0,12,6.5,5.46,5.46,0,0,0,6.5,12Z\"/>\n",
              "  </svg>\n",
              "    </button>\n",
              "    <script>\n",
              "      (() => {\n",
              "      const buttonEl =\n",
              "        document.querySelector('#id_53921a69-7cdd-42ea-a4a6-471690a8d734 button.colab-df-generate');\n",
              "      buttonEl.style.display =\n",
              "        google.colab.kernel.accessAllowed ? 'block' : 'none';\n",
              "\n",
              "      buttonEl.onclick = () => {\n",
              "        google.colab.notebook.generateWithVariable('data');\n",
              "      }\n",
              "      })();\n",
              "    </script>\n",
              "  </div>\n",
              "\n",
              "    </div>\n",
              "  </div>\n"
            ],
            "application/vnd.google.colaboratory.intrinsic+json": {
              "type": "dataframe",
              "variable_name": "data",
              "summary": "{\n  \"name\": \"data\",\n  \"rows\": 5572,\n  \"fields\": [\n    {\n      \"column\": \"is_ham\",\n      \"properties\": {\n        \"dtype\": \"number\",\n        \"std\": 0,\n        \"min\": 0,\n        \"max\": 1,\n        \"num_unique_values\": 2,\n        \"samples\": [\n          0,\n          1\n        ],\n        \"semantic_type\": \"\",\n        \"description\": \"\"\n      }\n    },\n    {\n      \"column\": \"text\",\n      \"properties\": {\n        \"dtype\": \"string\",\n        \"num_unique_values\": 5169,\n        \"samples\": [\n          \"Did u download the fring app?\",\n          \"Pass dis to all ur contacts n see wat u get! Red;i'm in luv wid u. Blue;u put a smile on my face. Purple;u r realy hot. Pink;u r so swt. Orange;i thnk i lyk u. Green;i realy wana go out wid u. Yelow;i wnt u bck. Black;i'm jealous of u. Brown;i miss you Nw plz giv me one color\"\n        ],\n        \"semantic_type\": \"\",\n        \"description\": \"\"\n      }\n    }\n  ]\n}"
            }
          },
          "metadata": {},
          "execution_count": 11
        }
      ]
    },
    {
      "cell_type": "code",
      "source": [
        "data.is_ham.value_counts()"
      ],
      "metadata": {
        "execution": {
          "iopub.status.busy": "2024-03-11T08:16:16.697174Z",
          "iopub.execute_input": "2024-03-11T08:16:16.697867Z",
          "iopub.status.idle": "2024-03-11T08:16:16.708291Z",
          "shell.execute_reply.started": "2024-03-11T08:16:16.697841Z",
          "shell.execute_reply": "2024-03-11T08:16:16.707421Z"
        },
        "trusted": true,
        "id": "q2UWvgfqomY3",
        "outputId": "889184fe-2bf7-4025-fcb1-b0da5464b68e",
        "colab": {
          "base_uri": "https://localhost:8080/"
        }
      },
      "execution_count": 12,
      "outputs": [
        {
          "output_type": "execute_result",
          "data": {
            "text/plain": [
              "1    4825\n",
              "0     747\n",
              "Name: is_ham, dtype: int64"
            ]
          },
          "metadata": {},
          "execution_count": 12
        }
      ]
    },
    {
      "cell_type": "code",
      "source": [
        "# Splitting the data\n",
        "\n",
        "x_train, x_test, y_train, y_test = train_test_split(data.text, data.is_ham, train_size=0.8, shuffle=True)\n",
        "x_train.shape, x_test.shape, y_train.shape, y_test.shape"
      ],
      "metadata": {
        "execution": {
          "iopub.status.busy": "2024-03-11T08:16:16.709426Z",
          "iopub.execute_input": "2024-03-11T08:16:16.710189Z",
          "iopub.status.idle": "2024-03-11T08:16:16.72134Z",
          "shell.execute_reply.started": "2024-03-11T08:16:16.710163Z",
          "shell.execute_reply": "2024-03-11T08:16:16.720562Z"
        },
        "trusted": true,
        "id": "qK5VpjnbomY3",
        "outputId": "905ffb95-0315-443e-e894-d198aefc714d",
        "colab": {
          "base_uri": "https://localhost:8080/"
        }
      },
      "execution_count": 13,
      "outputs": [
        {
          "output_type": "execute_result",
          "data": {
            "text/plain": [
              "((4457,), (1115,), (4457,), (1115,))"
            ]
          },
          "metadata": {},
          "execution_count": 13
        }
      ]
    },
    {
      "cell_type": "markdown",
      "source": [
        "# Impilmenting BOW Representation"
      ],
      "metadata": {
        "id": "0ZYjzTY9omY3"
      }
    },
    {
      "cell_type": "code",
      "source": [
        "# Creating an Instance of the CountVectorizer\n",
        "count_vectorizer = CountVectorizer()"
      ],
      "metadata": {
        "execution": {
          "iopub.status.busy": "2024-03-11T08:16:16.722544Z",
          "iopub.execute_input": "2024-03-11T08:16:16.722826Z",
          "iopub.status.idle": "2024-03-11T08:16:16.728397Z",
          "shell.execute_reply.started": "2024-03-11T08:16:16.7228Z",
          "shell.execute_reply": "2024-03-11T08:16:16.727587Z"
        },
        "trusted": true,
        "id": "3zMJzTz3omY3"
      },
      "execution_count": 14,
      "outputs": []
    },
    {
      "cell_type": "code",
      "source": [
        "type(x_train), type(x_train.values)"
      ],
      "metadata": {
        "execution": {
          "iopub.status.busy": "2024-03-11T08:16:16.729631Z",
          "iopub.execute_input": "2024-03-11T08:16:16.730188Z",
          "iopub.status.idle": "2024-03-11T08:16:16.739673Z",
          "shell.execute_reply.started": "2024-03-11T08:16:16.730163Z",
          "shell.execute_reply": "2024-03-11T08:16:16.738941Z"
        },
        "trusted": true,
        "id": "rvlMNKUXomY3",
        "outputId": "9716bba2-d35b-4de4-9b1f-2ce19c834e6d",
        "colab": {
          "base_uri": "https://localhost:8080/"
        }
      },
      "execution_count": 15,
      "outputs": [
        {
          "output_type": "execute_result",
          "data": {
            "text/plain": [
              "(pandas.core.series.Series, numpy.ndarray)"
            ]
          },
          "metadata": {},
          "execution_count": 15
        }
      ]
    },
    {
      "cell_type": "code",
      "source": [
        "x_train_count_vectorizer = count_vectorizer.fit_transform(x_train.values)\n",
        "x_train_count_vectorizer"
      ],
      "metadata": {
        "execution": {
          "iopub.status.busy": "2024-03-11T08:16:16.740792Z",
          "iopub.execute_input": "2024-03-11T08:16:16.741533Z",
          "iopub.status.idle": "2024-03-11T08:16:16.896397Z",
          "shell.execute_reply.started": "2024-03-11T08:16:16.741504Z",
          "shell.execute_reply": "2024-03-11T08:16:16.89557Z"
        },
        "trusted": true,
        "id": "y4Ev3wcpomY4",
        "outputId": "a03cd5e0-c4f3-4ba7-c0d6-0dff3b711b69",
        "colab": {
          "base_uri": "https://localhost:8080/"
        }
      },
      "execution_count": 16,
      "outputs": [
        {
          "output_type": "execute_result",
          "data": {
            "text/plain": [
              "<4457x7690 sparse matrix of type '<class 'numpy.int64'>'\n",
              "\twith 59250 stored elements in Compressed Sparse Row format>"
            ]
          },
          "metadata": {},
          "execution_count": 16
        }
      ]
    },
    {
      "cell_type": "code",
      "source": [
        "x_train_cv = x_train_count_vectorizer.toarray()\n",
        "x_train_cv"
      ],
      "metadata": {
        "execution": {
          "iopub.status.busy": "2024-03-11T08:16:16.900584Z",
          "iopub.execute_input": "2024-03-11T08:16:16.903171Z",
          "iopub.status.idle": "2024-03-11T08:16:16.948138Z",
          "shell.execute_reply.started": "2024-03-11T08:16:16.903144Z",
          "shell.execute_reply": "2024-03-11T08:16:16.947298Z"
        },
        "trusted": true,
        "id": "GCbiykeTomY4",
        "outputId": "3f2f51a9-3b81-4b7c-cd39-7e39ad0775e8",
        "colab": {
          "base_uri": "https://localhost:8080/"
        }
      },
      "execution_count": 17,
      "outputs": [
        {
          "output_type": "execute_result",
          "data": {
            "text/plain": [
              "array([[0, 0, 0, ..., 0, 0, 0],\n",
              "       [0, 0, 0, ..., 0, 0, 0],\n",
              "       [0, 0, 0, ..., 0, 0, 0],\n",
              "       ...,\n",
              "       [0, 0, 0, ..., 0, 0, 0],\n",
              "       [0, 0, 0, ..., 0, 0, 0],\n",
              "       [0, 0, 0, ..., 0, 0, 0]])"
            ]
          },
          "metadata": {},
          "execution_count": 17
        }
      ]
    },
    {
      "cell_type": "code",
      "source": [
        "x_train_cv.shape"
      ],
      "metadata": {
        "execution": {
          "iopub.status.busy": "2024-03-11T08:16:16.948978Z",
          "iopub.execute_input": "2024-03-11T08:16:16.949184Z",
          "iopub.status.idle": "2024-03-11T08:16:16.95417Z",
          "shell.execute_reply.started": "2024-03-11T08:16:16.949165Z",
          "shell.execute_reply": "2024-03-11T08:16:16.953458Z"
        },
        "trusted": true,
        "id": "PxfdYgWvomY4",
        "outputId": "ffb2e172-158d-4d7a-9d95-2d1804a5bdda",
        "colab": {
          "base_uri": "https://localhost:8080/"
        }
      },
      "execution_count": 18,
      "outputs": [
        {
          "output_type": "execute_result",
          "data": {
            "text/plain": [
              "(4457, 7690)"
            ]
          },
          "metadata": {},
          "execution_count": 18
        }
      ]
    },
    {
      "cell_type": "code",
      "source": [
        "count_vectorizer.vocabulary_"
      ],
      "metadata": {
        "execution": {
          "iopub.status.busy": "2024-03-11T08:16:16.955204Z",
          "iopub.execute_input": "2024-03-11T08:16:16.95555Z",
          "iopub.status.idle": "2024-03-11T08:16:16.990261Z",
          "shell.execute_reply.started": "2024-03-11T08:16:16.955527Z",
          "shell.execute_reply": "2024-03-11T08:16:16.989346Z"
        },
        "trusted": true,
        "id": "hMmkiLsJomY4",
        "outputId": "7b656631-3e65-4943-886e-fed937331364",
        "colab": {
          "base_uri": "https://localhost:8080/"
        }
      },
      "execution_count": 19,
      "outputs": [
        {
          "output_type": "execute_result",
          "data": {
            "text/plain": [
              "{'ok': 4888,\n",
              " 'want': 7307,\n",
              " 'to': 6883,\n",
              " 'be': 1257,\n",
              " 'inside': 3669,\n",
              " 'you': 7639,\n",
              " 'every': 2653,\n",
              " 'night': 4745,\n",
              " 'come': 1886,\n",
              " 'around': 1057,\n",
              " 'lt': 4217,\n",
              " 'decimal': 2191,\n",
              " 'gt': 3247,\n",
              " 'pm': 5232,\n",
              " 'vikky': 7226,\n",
              " 'otside': 4972,\n",
              " 'nw': 4838,\n",
              " 'il': 3598,\n",
              " 'by': 1573,\n",
              " 'tht': 6830,\n",
              " 'time': 6851,\n",
              " 'oh': 4883,\n",
              " 'dang': 2144,\n",
              " 'didn': 2287,\n",
              " 'mean': 4381,\n",
              " 'send': 5964,\n",
              " 'that': 6759,\n",
              " 'lol': 4157,\n",
              " 'home': 3461,\n",
              " 'so': 6234,\n",
              " 'we': 7344,\n",
              " 'can': 1612,\n",
              " 'always': 913,\n",
              " 'chat': 1725,\n",
              " 've': 7195,\n",
              " 'sent': 5974,\n",
              " 'ì_': 7678,\n",
              " 'my': 4633,\n",
              " 'part': 5057,\n",
              " 'great': 3219,\n",
              " 'princess': 5377,\n",
              " 'love': 4197,\n",
              " 'giving': 3136,\n",
              " 'and': 944,\n",
              " 'receiving': 5587,\n",
              " 'oral': 4945,\n",
              " 'doggy': 2372,\n",
              " 'style': 6506,\n",
              " 'is': 3726,\n",
              " 'fave': 2779,\n",
              " 'position': 5288,\n",
              " 'how': 3506,\n",
              " 'about': 735,\n",
              " 'enjoy': 2579,\n",
              " 'making': 4302,\n",
              " 'times': 6852,\n",
              " 'per': 5117,\n",
              " 'sir': 6138,\n",
              " 'need': 4700,\n",
              " 'velusamy': 7201,\n",
              " 'date': 2160,\n",
              " 'of': 4864,\n",
              " 'birth': 1351,\n",
              " 'company': 1904,\n",
              " 'bank': 1210,\n",
              " 'facilities': 2731,\n",
              " 'details': 2258,\n",
              " 'free': 2975,\n",
              " 'top': 6928,\n",
              " 'polyphonic': 5266,\n",
              " 'tones': 6910,\n",
              " 'call': 1589,\n",
              " '087018728737': 82,\n",
              " 'national': 4675,\n",
              " 'rate': 5536,\n",
              " 'get': 3107,\n",
              " 'toppoly': 6931,\n",
              " 'tune': 7022,\n",
              " 'week': 7368,\n",
              " 'just': 3851,\n",
              " 'text': 6736,\n",
              " 'subpoly': 6514,\n",
              " '81618': 634,\n",
              " 'pole': 5258,\n",
              " 'unsub': 7117,\n",
              " '08718727870': 155,\n",
              " 'congratulations': 1948,\n",
              " 'thanks': 6752,\n",
              " 'good': 3172,\n",
              " 'friend': 2995,\n",
              " 'have': 3345,\n",
              " 'won': 7508,\n",
              " 'the': 6765,\n",
              " '000': 1,\n",
              " 'xmas': 7581,\n",
              " 'prize': 5388,\n",
              " 'claim': 1804,\n",
              " 'easy': 2493,\n",
              " '08718726978': 152,\n",
              " 'now': 4814,\n",
              " 'only': 4915,\n",
              " '10p': 270,\n",
              " 'minute': 4468,\n",
              " 'bt': 1527,\n",
              " 'am': 915,\n",
              " 'in': 3625,\n",
              " 'hospital': 3491,\n",
              " 'da': 2129,\n",
              " 'will': 7452,\n",
              " 'return': 5721,\n",
              " 'evening': 2647,\n",
              " 'chill': 1771,\n",
              " 'for': 2929,\n",
              " 'another': 964,\n",
              " '6hrs': 586,\n",
              " 'if': 3587,\n",
              " 'could': 2012,\n",
              " 'sleep': 6172,\n",
              " 'pain': 5022,\n",
              " 'not': 4799,\n",
              " 'surgical': 6584,\n",
              " 'emergency': 2557,\n",
              " 'see': 5940,\n",
              " 'it': 3737,\n",
              " 'unfolds': 7093,\n",
              " 'okay': 4889,\n",
              " 'someonone': 6251,\n",
              " 'know': 3937,\n",
              " 'trying': 7006,\n",
              " 'contact': 1959,\n",
              " 'via': 7212,\n",
              " 'our': 4975,\n",
              " 'dating': 2163,\n",
              " 'service': 5985,\n",
              " 'find': 2841,\n",
              " 'out': 4978,\n",
              " 'who': 7428,\n",
              " 'from': 3012,\n",
              " 'your': 7643,\n",
              " 'mobile': 4510,\n",
              " 'or': 4942,\n",
              " 'landline': 3983,\n",
              " '09064015307': 220,\n",
              " 'box334sk38ch': 1450,\n",
              " 'up': 7122,\n",
              " 'ìï': 7680,\n",
              " 'wan': 7303,\n",
              " 'then': 6775,\n",
              " 'lor': 4176,\n",
              " 'but': 1558,\n",
              " 'din': 2311,\n",
              " 'any': 977,\n",
              " 'stripes': 6479,\n",
              " 'skirt': 6163,\n",
              " 'go': 3148,\n",
              " 'write': 7553,\n",
              " 'msg': 4584,\n",
              " 'put': 5472,\n",
              " 'on': 4905,\n",
              " 'dictionary': 2284,\n",
              " 'mode': 4520,\n",
              " 'cover': 2028,\n",
              " 'screen': 5914,\n",
              " 'with': 7479,\n",
              " 'hand': 3299,\n",
              " 'press': 5358,\n",
              " 'gently': 3101,\n",
              " 'remove': 5656,\n",
              " 'ur': 7140,\n",
              " 'its': 3742,\n",
              " 'interesting': 3685,\n",
              " 'hey': 3406,\n",
              " 'werethe': 7394,\n",
              " 'monkeespeople': 4536,\n",
              " 'say': 5883,\n",
              " 'monkeyaround': 4538,\n",
              " 'howdy': 3508,\n",
              " 'gorgeous': 3182,\n",
              " 'gal': 3055,\n",
              " 'boy': 1458,\n",
              " 'walking': 7296,\n",
              " 'park': 5054,\n",
              " 'hold': 3452,\n",
              " 'do': 2352,\n",
              " 'think': 6793,\n",
              " 'would': 7545,\n",
              " 'run': 5814,\n",
              " 'away': 1157,\n",
              " 'no': 4763,\n",
              " 'jst': 3834,\n",
              " 'wana': 7305,\n",
              " 'feels': 2796,\n",
              " 'heaven': 3375,\n",
              " 'an': 939,\n",
              " 'prince': 5375,\n",
              " 'gn': 3146,\n",
              " 'hi': 3409,\n",
              " 'dis': 2325,\n",
              " 'yijue': 7631,\n",
              " 'happy': 3321,\n",
              " 'work': 7524,\n",
              " 'wif': 7442,\n",
              " 'all': 893,\n",
              " 'gek1510': 3093,\n",
              " 'check': 1735,\n",
              " 'nuerologist': 4826,\n",
              " 'havent': 3347,\n",
              " 'add': 787,\n",
              " 'yet': 7625,\n",
              " 'right': 5744,\n",
              " 'where': 7416,\n",
              " 'these': 6782,\n",
              " 'ideas': 3580,\n",
              " 'near': 4689,\n",
              " 'kalainar': 3864,\n",
              " 'tv': 7029,\n",
              " 'office': 4872,\n",
              " 'thenampet': 6776,\n",
              " 'she': 6031,\n",
              " 'was': 7320,\n",
              " 'wondering': 7512,\n",
              " 'wont': 7514,\n",
              " 'smiling': 6211,\n",
              " 'are': 1034,\n",
              " 'coping': 1991,\n",
              " 'long': 4162,\n",
              " 'distance': 2338,\n",
              " 'sorry': 6281,\n",
              " 'meeting': 4399,\n",
              " 'll': 4133,\n",
              " 'later': 4005,\n",
              " 'chikku': 1765,\n",
              " 'going': 3160,\n",
              " 'room': 5779,\n",
              " 'bus': 1552,\n",
              " 'fine': 2844,\n",
              " 'thatåõs': 6763,\n",
              " 'way': 7339,\n",
              " 'feel': 2792,\n",
              " 'gota': 3187,\n",
              " 'th': 6747,\n",
              " 'gower': 3195,\n",
              " 'mate': 4353,\n",
              " 'which': 7422,\n",
              " 'man': 4308,\n",
              " 'wales': 7290,\n",
              " 'ill': 3600,\n",
              " 'back': 1184,\n",
              " 'åômorrow': 7676,\n",
              " 'this': 6801,\n",
              " 'wk': 7487,\n",
              " 'åð': 7673,\n",
              " 'random': 5529,\n",
              " 'todays': 6891,\n",
              " 'voda': 7247,\n",
              " 'numbers': 4829,\n",
              " 'ending': 2566,\n",
              " '1225': 283,\n",
              " 'selected': 5953,\n",
              " 'receive': 5584,\n",
              " '50award': 527,\n",
              " 'match': 4350,\n",
              " 'please': 5220,\n",
              " '08712300220': 101,\n",
              " 'quoting': 5502,\n",
              " 'code': 1859,\n",
              " '3100': 429,\n",
              " 'standard': 6389,\n",
              " 'rates': 5537,\n",
              " 'app': 1002,\n",
              " 'rite': 5759,\n",
              " 'well': 7384,\n",
              " 'im': 3602,\n",
              " 'best': 1312,\n",
              " 'pete': 5143,\n",
              " 'went': 7389,\n",
              " 'were': 7391,\n",
              " '2geva': 388,\n",
              " 'again': 837,\n",
              " 'been': 1275,\n",
              " 'longer': 4163,\n",
              " 'than': 6748,\n",
              " 'juz': 3854,\n",
              " 'remembered': 5648,\n",
              " 'gotta': 3191,\n",
              " 'bathe': 1237,\n",
              " 'dog': 2367,\n",
              " 'today': 6890,\n",
              " 'got': 3186,\n",
              " 'like': 4086,\n",
              " 'some': 6246,\n",
              " 'more': 4551,\n",
              " 'though': 6812,\n",
              " 'whatever': 7407,\n",
              " 'someone': 6250,\n",
              " 'has': 3332,\n",
              " 'asked': 1082,\n",
              " 'cant': 1623,\n",
              " 'guess': 3254,\n",
              " '09058091854': 183,\n",
              " 'revealed': 5727,\n",
              " 'po': 5233,\n",
              " 'box385': 1451,\n",
              " 'm6': 4251,\n",
              " '6wu': 593,\n",
              " 'still': 6434,\n",
              " 'dinner': 2317,\n",
              " 'tonight': 6915,\n",
              " 'bookedthe': 1417,\n",
              " 'hut': 3550,\n",
              " 'also': 906,\n",
              " 'off': 4865,\n",
              " 'win': 7455,\n",
              " 'year': 7611,\n",
              " 'supply': 6572,\n",
              " 'cds': 1680,\n",
              " 'store': 6456,\n",
              " 'choice': 1784,\n",
              " 'worth': 7540,\n",
              " '500': 524,\n",
              " 'enter': 2588,\n",
              " '100': 260,\n",
              " 'weekly': 7372,\n",
              " 'draw': 2421,\n",
              " 'txt': 7040,\n",
              " 'music': 4623,\n",
              " '87066': 669,\n",
              " 'ts': 7007,\n",
              " 'cs': 2074,\n",
              " 'www': 7572,\n",
              " 'ldew': 4022,\n",
              " 'com': 1880,\n",
              " 'subs16': 6516,\n",
              " '1win150ppmx3': 336,\n",
              " 'don': 2387,\n",
              " 'forget': 2937,\n",
              " 'owns': 5006,\n",
              " 'private': 5386,\n",
              " 'property': 5424,\n",
              " 'passionate': 5071,\n",
              " 'kiss': 3924,\n",
              " 'cell': 1686,\n",
              " 'problem': 5395,\n",
              " 'thts': 6831,\n",
              " 'nt': 4820,\n",
              " 'able': 733,\n",
              " 'reply': 5675,\n",
              " 'pick': 5170,\n",
              " 'phone': 5157,\n",
              " 'pls': 5226,\n",
              " 'message': 4429,\n",
              " 'yes': 7622,\n",
              " 'ammae': 925,\n",
              " 'life': 4074,\n",
              " 'takes': 6647,\n",
              " 'lot': 4184,\n",
              " 'turns': 7027,\n",
              " 'sit': 6142,\n",
              " 'try': 7004,\n",
              " 'steering': 6419,\n",
              " 'booked': 1416,\n",
              " 'kb': 3880,\n",
              " 'sat': 5869,\n",
              " 'already': 903,\n",
              " 'what': 7406,\n",
              " 'other': 4967,\n",
              " 'lessons': 4057,\n",
              " 'ah': 851,\n",
              " 'keep': 3883,\n",
              " 'meet': 4397,\n",
              " 'confirm': 1941,\n",
              " 'lodging': 4149,\n",
              " 'daddy': 2134,\n",
              " 'make': 4298,\n",
              " 'scream': 5911,\n",
              " 'pleasure': 5222,\n",
              " 'slap': 6170,\n",
              " 'ass': 1090,\n",
              " 'dick': 2282,\n",
              " 'reading': 5560,\n",
              " 'gud': 3251,\n",
              " 'habit': 3278,\n",
              " 'nan': 4661,\n",
              " 'bari': 1219,\n",
              " 'hudgi': 3524,\n",
              " 'yorge': 7638,\n",
              " 'pataistha': 5075,\n",
              " 'ertini': 2619,\n",
              " 'kano': 3871,\n",
              " 'yeah': 7610,\n",
              " 'jay': 3775,\n",
              " 'sort': 6282,\n",
              " 'fucking': 3023,\n",
              " 'retard': 5718,\n",
              " 'girl': 3128,\n",
              " 'propose': 5425,\n",
              " 'seing': 5951,\n",
              " 'bloody': 1390,\n",
              " 'funky': 3039,\n",
              " 'shit': 6054,\n",
              " 'face': 2729,\n",
              " 'asssssholeeee': 1094,\n",
              " 'opinion': 4931,\n",
              " 'me': 4379,\n",
              " 'over': 4993,\n",
              " 'jada': 3760,\n",
              " 'kusruthi': 3957,\n",
              " 'lovable': 4196,\n",
              " 'silent': 6117,\n",
              " 'spl': 6342,\n",
              " 'character': 1712,\n",
              " 'matured': 4365,\n",
              " 'stylish': 6508,\n",
              " 'simple': 6122,\n",
              " 'probably': 5394,\n",
              " 'gonna': 3170,\n",
              " 'swing': 6615,\n",
              " 'wee': 7366,\n",
              " 'bit': 1355,\n",
              " 'reach': 5552,\n",
              " 'amp': 931,\n",
              " 'cann': 1621,\n",
              " 'voice': 7250,\n",
              " 'asa': 1072,\n",
              " 'diet': 2294,\n",
              " 'ate': 1105,\n",
              " 'too': 6919,\n",
              " 'many': 4322,\n",
              " 'slices': 6180,\n",
              " 'pizza': 5196,\n",
              " 'yesterday': 7624,\n",
              " 'ugh': 7060,\n",
              " 'jus': 3850,\n",
              " 'ans': 965,\n",
              " 'lar': 3993,\n",
              " 'noe': 4766,\n",
              " 'gd': 3087,\n",
              " 'ice': 3570,\n",
              " 'cream': 2047,\n",
              " 'oso': 4965,\n",
              " 'aftr': 835,\n",
              " 'cleaning': 1818,\n",
              " 'house': 3502,\n",
              " 'peoples': 5116,\n",
              " 'very': 7209,\n",
              " 'much': 4601,\n",
              " 'shy': 6102,\n",
              " 'pa': 5012,\n",
              " 'new': 4729,\n",
              " 'deus': 2262,\n",
              " 'ex': 2673,\n",
              " 'game': 3059,\n",
              " 'comin': 1891,\n",
              " 'early': 2482,\n",
              " 'next': 4735,\n",
              " 'yr': 7653,\n",
              " 'mmmm': 4499,\n",
              " 'fuck': 3020,\n",
              " 'fair': 2740,\n",
              " 'weaknesses': 7347,\n",
              " 'grins': 3229,\n",
              " 'pushes': 5470,\n",
              " 'knee': 3931,\n",
              " 'exposes': 2712,\n",
              " 'belly': 1299,\n",
              " 'pulls': 5454,\n",
              " 'head': 3356,\n",
              " 'yours': 7647,\n",
              " 'wicked': 7437,\n",
              " 'smile': 6207,\n",
              " '0207': 10,\n",
              " '083': 64,\n",
              " '6089': 558,\n",
              " 'ho': 3446,\n",
              " 'first': 2859,\n",
              " 'use': 7154,\n",
              " 'type': 7053,\n",
              " 'words': 7523,\n",
              " 'moji': 4525,\n",
              " 'informed': 3657,\n",
              " 'saved': 5879,\n",
              " 'lives': 4130,\n",
              " 'oooh': 4922,\n",
              " 'bed': 1270,\n",
              " 'ridden': 5742,\n",
              " 'ey': 2720,\n",
              " 'thinking': 6796,\n",
              " 'awarded': 1156,\n",
              " 'sipix': 6136,\n",
              " 'digital': 2305,\n",
              " 'camera': 1608,\n",
              " '09061221061': 200,\n",
              " 'delivery': 2223,\n",
              " 'within': 7481,\n",
              " '28days': 375,\n",
              " 'box177': 1447,\n",
              " 'm221bp': 4248,\n",
              " '2yr': 416,\n",
              " 'warranty': 7318,\n",
              " '150ppm': 311,\n",
              " '16': 318,\n",
              " 'på': 5477,\n",
              " '99': 709,\n",
              " 'yup': 7662,\n",
              " 'leh': 4046,\n",
              " 'sure': 6580,\n",
              " 'whenever': 7413,\n",
              " 'show': 6085,\n",
              " 'darlin': 2152,\n",
              " 'london': 4160,\n",
              " 'smashed': 6202,\n",
              " 'into': 3694,\n",
              " 'driver': 2434,\n",
              " 'big': 1335,\n",
              " 'dent': 2230,\n",
              " 'really': 5571,\n",
              " 'missing': 4482,\n",
              " 'xxx': 7588,\n",
              " 'wonders': 7513,\n",
              " 'world': 7531,\n",
              " '7th': 615,\n",
              " '6th': 591,\n",
              " '5th': 551,\n",
              " '4th': 515,\n",
              " 'personality': 5136,\n",
              " '3rd': 459,\n",
              " 'nature': 4678,\n",
              " '2nd': 401,\n",
              " 'sms': 6218,\n",
              " '1st': 331,\n",
              " 'lovely': 4199,\n",
              " 'friendship': 2998,\n",
              " 'morning': 4555,\n",
              " 'dear': 2178,\n",
              " 'cool': 1986,\n",
              " 'swimming': 6614,\n",
              " 'pool': 5272,\n",
              " 'jacuzzi': 3759,\n",
              " 'at': 1104,\n",
              " 'kent': 3888,\n",
              " 'vale': 7174,\n",
              " 'wait': 7284,\n",
              " 'there': 6780,\n",
              " 'ar': 1028,\n",
              " 'when': 7412,\n",
              " 'dad': 2133,\n",
              " 'rent': 5661,\n",
              " 'expensive': 2699,\n",
              " 'save': 5878,\n",
              " 'admin': 798,\n",
              " 'building': 1538,\n",
              " 'might': 4443,\n",
              " 'slightly': 6183,\n",
              " 'earlier': 2481,\n",
              " 'reaching': 5555,\n",
              " 'customer': 2112,\n",
              " 'loyalty': 4212,\n",
              " 'offer': 4869,\n",
              " 'nokia6650': 4773,\n",
              " '10': 259,\n",
              " 'txtauction': 7043,\n",
              " 'word': 7522,\n",
              " 'start': 6397,\n",
              " '81151': 632,\n",
              " '4t': 514,\n",
              " 'ctxt': 2088,\n",
              " 'tc': 6678,\n",
              " '150p': 307,\n",
              " 'mtmsg': 4596,\n",
              " 'why': 7435,\n",
              " 'nothing': 4804,\n",
              " 'anyway': 988,\n",
              " 'give': 3133,\n",
              " 'treat': 6978,\n",
              " 'lip': 4112,\n",
              " 'synced': 6626,\n",
              " 'shangela': 6020,\n",
              " 'means': 4385,\n",
              " 'because': 1265,\n",
              " 'people': 5115,\n",
              " 'calls': 1603,\n",
              " 'them': 6773,\n",
              " 'friends': 2996,\n",
              " 'ge': 3088,\n",
              " 'working': 7528,\n",
              " 'eyes': 2723,\n",
              " 'philosophy': 5154,\n",
              " 'as': 1071,\n",
              " 'usual': 7165,\n",
              " 'vijay': 7224,\n",
              " 'film': 2831,\n",
              " 'different': 2300,\n",
              " 'nice': 4739,\n",
              " 'day': 2167,\n",
              " 'impressively': 3621,\n",
              " 'sensible': 5972,\n",
              " 'boring': 1429,\n",
              " 'remember': 5647,\n",
              " 'lucky': 4223,\n",
              " 'told': 6900,\n",
              " 'pple': 5315,\n",
              " 'take': 6644,\n",
              " 'finish': 2847,\n",
              " 'movie': 4574,\n",
              " 'theatre': 6768,\n",
              " 'watch': 7326,\n",
              " 'unlimited': 7110,\n",
              " 'movies': 4575,\n",
              " 'pay': 5087,\n",
              " 'once': 4907,\n",
              " 'bloomberg': 1391,\n",
              " 'center': 1688,\n",
              " '447797706009': 486,\n",
              " 'apply': 1011,\n",
              " 'future': 3045,\n",
              " 'http': 3520,\n",
              " 'careers': 1640,\n",
              " 'auntie': 1133,\n",
              " 'huai': 3522,\n",
              " 'juan': 3837,\n",
              " 'never': 4726,\n",
              " 'her': 3397,\n",
              " 'nah': 4648,\n",
              " 'car': 1632,\n",
              " 'meant': 4386,\n",
              " 'crammed': 2036,\n",
              " 'full': 3030,\n",
              " 'freemsg': 2982,\n",
              " '250': 365,\n",
              " 'messages': 4431,\n",
              " '84025': 652,\n",
              " 'web2mobile': 7355,\n",
              " 'mates': 4354,\n",
              " 'etc': 2634,\n",
              " 'join': 3814,\n",
              " 'txt250': 7041,\n",
              " '50p': 530,\n",
              " 'box139': 1446,\n",
              " 'la32wu': 3966,\n",
              " 'txtx': 7051,\n",
              " 'stop': 6447,\n",
              " 'awesome': 1158,\n",
              " 'plan': 5203,\n",
              " 'here': 3398,\n",
              " 'after': 832,\n",
              " 'else': 2547,\n",
              " 'laptop': 3992,\n",
              " 'matric': 4360,\n",
              " 'card': 1633,\n",
              " 'lei': 4047,\n",
              " 'congrats': 1946,\n",
              " '3g': 449,\n",
              " 'videophones': 7221,\n",
              " '09063458130': 215,\n",
              " 'videochat': 7220,\n",
              " 'wid': 7440,\n",
              " 'play': 5211,\n",
              " 'java': 3774,\n",
              " 'games': 3060,\n",
              " 'dload': 2349,\n",
              " 'polyph': 5265,\n",
              " 'noline': 4775,\n",
              " 'rentl': 5664,\n",
              " 'bx420': 1571,\n",
              " 'ip4': 3710,\n",
              " '5we': 553,\n",
              " 'special': 6315,\n",
              " 'ujhhhhhhh': 7064,\n",
              " 'computer': 1923,\n",
              " 'shipped': 6050,\n",
              " 'address': 793,\n",
              " 'sandiago': 5853,\n",
              " 'parantella': 5047,\n",
              " 'lane': 3987,\n",
              " 'wtf': 7565,\n",
              " 'poop': 5273,\n",
              " 'stuff': 6500,\n",
              " 'sell': 5959,\n",
              " 'tell': 6703,\n",
              " 'aiyah': 866,\n",
              " 'until': 7121,\n",
              " 'forgot': 2942,\n",
              " 'better': 1318,\n",
              " 'dun': 2467,\n",
              " 'disturb': 2339,\n",
              " 'liao': 4065,\n",
              " 'wake': 7288,\n",
              " 'things': 6792,\n",
              " 'happening': 3315,\n",
              " 'lindsay': 4098,\n",
              " 'years': 7612,\n",
              " 'sighs': 6110,\n",
              " 'bars': 1225,\n",
              " 'ptbo': 5446,\n",
              " 'blue': 1394,\n",
              " 'heron': 3400,\n",
              " 'something': 6256,\n",
              " 'smoking': 6216,\n",
              " 'while': 7423,\n",
              " 'wylie': 7573,\n",
              " 'smokes': 6215,\n",
              " 'justify': 3853,\n",
              " 'ruining': 5807,\n",
              " 'available': 1142,\n",
              " 'wesleys': 7396,\n",
              " 'town': 6950,\n",
              " 'bet': 1314,\n",
              " 'does': 2362,\n",
              " 'hella': 3386,\n",
              " 'drugs': 2445,\n",
              " 'one': 4909,\n",
              " 'registered': 5627,\n",
              " 'subscribers': 6520,\n",
              " 'gift': 3121,\n",
              " 'voucher': 7259,\n",
              " 'replying': 5676,\n",
              " 'unsubscribe': 7118,\n",
              " 'imagine': 3606,\n",
              " 'finally': 2838,\n",
              " 'sink': 6134,\n",
              " 'bath': 1236,\n",
              " 'through': 6823,\n",
              " 'paces': 5013,\n",
              " 'maybe': 4373,\n",
              " 'even': 2646,\n",
              " 'having': 3350,\n",
              " 'eat': 2494,\n",
              " 'before': 1281,\n",
              " 'left': 4040,\n",
              " 'cage': 1581,\n",
              " 'cock': 1856,\n",
              " 'surrounded': 6590,\n",
              " 'water': 7331,\n",
              " 'reminding': 5654,\n",
              " 'cuck': 2089,\n",
              " 'actually': 784,\n",
              " 'called': 1595,\n",
              " 'punto': 5460,\n",
              " 'woulda': 7546,\n",
              " 'worse': 7538,\n",
              " 'actual': 783,\n",
              " 'exam': 2676,\n",
              " 'harder': 3324,\n",
              " 'nbme': 4685,\n",
              " 'lmao': 4135,\n",
              " 'fish': 2860,\n",
              " 'memory': 4414,\n",
              " 'leave': 4034,\n",
              " 'de': 2174,\n",
              " 'prepare': 5347,\n",
              " 'arithmetic': 1049,\n",
              " 'percentages': 5119,\n",
              " 'spook': 6355,\n",
              " 'mob': 4508,\n",
              " 'halloween': 3295,\n",
              " 'collection': 1873,\n",
              " 'logo': 4153,\n",
              " 'pic': 5169,\n",
              " 'plus': 5229,\n",
              " 'eerie': 2517,\n",
              " 'tone': 6909,\n",
              " '8007': 621,\n",
              " 'zed': 7666,\n",
              " '08701417012150p': 78,\n",
              " 'shb': 6029,\n",
              " 'thanx': 6757,\n",
              " 'plural': 5228,\n",
              " 'noun': 4811,\n",
              " 'research': 5687,\n",
              " 'straight': 6463,\n",
              " 'bring': 1495,\n",
              " 'bud': 1530,\n",
              " 'drinks': 2431,\n",
              " 'little': 4125,\n",
              " 'useful': 7156,\n",
              " 'cash': 1658,\n",
              " 'must': 4625,\n",
              " 'normally': 4792,\n",
              " 'him': 3418,\n",
              " 'afternoon': 834,\n",
              " 'mah': 4285,\n",
              " '09061221066': 201,\n",
              " 'fromm': 3013,\n",
              " '28': 373,\n",
              " 'days': 2168,\n",
              " 'most': 4558,\n",
              " 'wi': 7436,\n",
              " 'nz': 4844,\n",
              " 'players': 5214,\n",
              " 'unsold': 7116,\n",
              " 'thk': 6802,\n",
              " '530': 540,\n",
              " 'dunno': 2469,\n",
              " 'tickets': 6840,\n",
              " 'wat': 7325,\n",
              " 'doing': 2377,\n",
              " 'quite': 5496,\n",
              " 'funny': 3040,\n",
              " 'shd': 6030,\n",
              " 'haf': 3281,\n",
              " 'shorter': 6073,\n",
              " 'area': 1035,\n",
              " 'restaurant': 5709,\n",
              " 'soon': 6271,\n",
              " 'college': 1875,\n",
              " 'had': 3279,\n",
              " 'food': 2921,\n",
              " 'id': 3576,\n",
              " 'bowls': 1444,\n",
              " 'bird': 1347,\n",
              " 'purchases': 5463,\n",
              " 'b4': 1167,\n",
              " 'al': 873,\n",
              " 'he': 3355,\n",
              " 'moan': 4507,\n",
              " 'thin': 6790,\n",
              " 'goes': 3155,\n",
              " 'wrong': 7560,\n",
              " 'fault': 2777,\n",
              " 'arguments': 1046,\n",
              " 'fed': 2789,\n",
              " 'himso': 3420,\n",
              " 'bother': 1435,\n",
              " 'hav': 3343,\n",
              " '2go': 389,\n",
              " 'xx': 7585,\n",
              " 'grand': 3207,\n",
              " 'party': 5065,\n",
              " 'doesn': 2364,\n",
              " 'mention': 4418,\n",
              " 'charge': 1714,\n",
              " 'served': 5983,\n",
              " 'thought': 6813,\n",
              " 'place': 5198,\n",
              " 'exciting': 2682,\n",
              " 'adult': 809,\n",
              " 'singles': 6133,\n",
              " 'uk': 7065,\n",
              " '86688': 666,\n",
              " 'chennai': 1750,\n",
              " 'auction': 1126,\n",
              " 'cooked': 1983,\n",
              " 'rather': 5538,\n",
              " 'salmon': 5845,\n",
              " 'la': 3963,\n",
              " 'lecture': 4038,\n",
              " 'gone': 3168,\n",
              " 'mad': 4269,\n",
              " 'pending': 5112,\n",
              " 'works': 7530,\n",
              " 'wen': 7387,\n",
              " 'bcums': 1254,\n",
              " 'angry': 950,\n",
              " 'dnt': 2351,\n",
              " 'seriously': 5982,\n",
              " 'coz': 2031,\n",
              " 'being': 1293,\n",
              " 'childish': 1767,\n",
              " 'true': 6997,\n",
              " 'showing': 6088,\n",
              " 'deep': 2198,\n",
              " 'affection': 823,\n",
              " 'care': 1637,\n",
              " 'luv': 4234,\n",
              " 'kettoda': 3893,\n",
              " 'manda': 4313,\n",
              " 'saw': 5882,\n",
              " 'both': 1434,\n",
              " 'battery': 1241,\n",
              " 'low': 4207,\n",
              " 'omw': 4904,\n",
              " 'tampa': 6659,\n",
              " 'west': 7397,\n",
              " 'palm': 5028,\n",
              " 'hear': 3366,\n",
              " 'happened': 3313,\n",
              " 'nope': 4784,\n",
              " 'drivin': 2435,\n",
              " 'neva': 4725,\n",
              " 'develop': 2263,\n",
              " 'photos': 5163,\n",
              " 'network': 4722,\n",
              " 'urgnt': 7145,\n",
              " 'height': 3381,\n",
              " 'recycling': 5602,\n",
              " 'read': 5558,\n",
              " 'twice': 7033,\n",
              " 'spend': 6329,\n",
              " 'earning': 2484,\n",
              " 'money': 4535,\n",
              " 'same': 5851,\n",
              " 'spent': 6331,\n",
              " 'spending': 6330,\n",
              " 'stuck': 6490,\n",
              " 'middle': 4440,\n",
              " 'row': 5790,\n",
              " 'side': 6108,\n",
              " 'personal': 5135,\n",
              " 'sized': 6153,\n",
              " 'jane': 3768,\n",
              " 'babes': 1177,\n",
              " 'goin': 3158,\n",
              " 'wrk': 7555,\n",
              " 'lst': 4216,\n",
              " 'nite': 4758,\n",
              " 'foned': 2919,\n",
              " 'chuck': 1795,\n",
              " 'theory': 6778,\n",
              " 'argument': 1045,\n",
              " 'wins': 7467,\n",
              " 'situation': 6148,\n",
              " 'loses': 4180,\n",
              " 'person': 5133,\n",
              " 'dont': 2390,\n",
              " 'argue': 1043,\n",
              " 'kick': 3901,\n",
              " 'correct': 1998,\n",
              " 'secret': 5931,\n",
              " 'admirer': 800,\n",
              " 'looking': 4169,\n",
              " 'they': 6786,\n",
              " 'reveal': 5726,\n",
              " 'thinks': 6797,\n",
              " '09065171142': 228,\n",
              " 'stopsms': 6454,\n",
              " '08718727870150ppm': 156,\n",
              " 'watching': 7329,\n",
              " 'xy': 7596,\n",
              " 'wants': 7311,\n",
              " 'shop': 6065,\n",
              " 'shopping': 6066,\n",
              " 'dai': 2135,\n",
              " 'naal': 4644,\n",
              " 'eruku': 2620,\n",
              " 'valued': 7181,\n",
              " 'pleased': 5221,\n",
              " 'advise': 815,\n",
              " 'following': 2914,\n",
              " 'recent': 5588,\n",
              " 'review': 5730,\n",
              " '1500': 306,\n",
              " 'bonus': 1412,\n",
              " '09066364589': 240,\n",
              " 'sue': 6535,\n",
              " '20': 341,\n",
              " 'old': 4899,\n",
              " 'lapdancer': 3991,\n",
              " 'sex': 5998,\n",
              " 'live': 4126,\n",
              " 'bedroom': 1272,\n",
              " '89555': 690,\n",
              " 'textoperator': 6744,\n",
              " 'g2': 3047,\n",
              " '1da': 327,\n",
              " '150ppmsg': 312,\n",
              " '18': 322,\n",
              " 'leaving': 4036,\n",
              " 'jd': 3780,\n",
              " 'cum': 2096,\n",
              " 'accounts': 763,\n",
              " 'executive': 2686,\n",
              " 'mail': 4290,\n",
              " 'us': 7150,\n",
              " 'job': 3807,\n",
              " 'data': 2159,\n",
              " 'analysis': 942,\n",
              " 'starts': 6400,\n",
              " 'monday': 4533,\n",
              " 'thesis': 6783,\n",
              " 'finished': 2849,\n",
              " 'xam': 7577,\n",
              " 'hall': 3292,\n",
              " 'starting': 6399,\n",
              " 'term': 6720,\n",
              " 'answer': 967,\n",
              " 'den': 2228,\n",
              " 'manage': 4309,\n",
              " 'own': 5004,\n",
              " 'hesitation': 3404,\n",
              " 'lookin': 4168,\n",
              " 'silently': 6118,\n",
              " 'said': 5838,\n",
              " 'intha': 3693,\n",
              " 'ponnungale': 5269,\n",
              " 'ipaditan': 3712,\n",
              " 'balls': 1202,\n",
              " 'hope': 3478,\n",
              " 'del': 2213,\n",
              " 'bak': 1195,\n",
              " 'sum': 6549,\n",
              " 'lucyxx': 4226,\n",
              " 'heehee': 3380,\n",
              " 'tho': 6808,\n",
              " 'nobody': 4765,\n",
              " 'decide': 2188,\n",
              " 'chinese': 1776,\n",
              " 'onum': 4919,\n",
              " 'ela': 2536,\n",
              " 'normal': 4791,\n",
              " 'hypertension': 3557,\n",
              " ...}"
            ]
          },
          "metadata": {},
          "execution_count": 19
        }
      ]
    },
    {
      "cell_type": "markdown",
      "source": [
        "# Creating the Classifier"
      ],
      "metadata": {
        "id": "bp8WHQfVomY4"
      }
    },
    {
      "cell_type": "code",
      "source": [
        "model = MultinomialNB()\n",
        "model"
      ],
      "metadata": {
        "execution": {
          "iopub.status.busy": "2024-03-11T08:16:16.991561Z",
          "iopub.execute_input": "2024-03-11T08:16:16.992043Z",
          "iopub.status.idle": "2024-03-11T08:16:17.003495Z",
          "shell.execute_reply.started": "2024-03-11T08:16:16.992012Z",
          "shell.execute_reply": "2024-03-11T08:16:17.002873Z"
        },
        "trusted": true,
        "id": "E_vmuza7omY4",
        "outputId": "27f60f12-37e2-4ddb-faa3-4d2622a6a4d3",
        "colab": {
          "base_uri": "https://localhost:8080/",
          "height": 75
        }
      },
      "execution_count": 20,
      "outputs": [
        {
          "output_type": "execute_result",
          "data": {
            "text/plain": [
              "MultinomialNB()"
            ],
            "text/html": [
              "<style>#sk-container-id-1 {color: black;background-color: white;}#sk-container-id-1 pre{padding: 0;}#sk-container-id-1 div.sk-toggleable {background-color: white;}#sk-container-id-1 label.sk-toggleable__label {cursor: pointer;display: block;width: 100%;margin-bottom: 0;padding: 0.3em;box-sizing: border-box;text-align: center;}#sk-container-id-1 label.sk-toggleable__label-arrow:before {content: \"▸\";float: left;margin-right: 0.25em;color: #696969;}#sk-container-id-1 label.sk-toggleable__label-arrow:hover:before {color: black;}#sk-container-id-1 div.sk-estimator:hover label.sk-toggleable__label-arrow:before {color: black;}#sk-container-id-1 div.sk-toggleable__content {max-height: 0;max-width: 0;overflow: hidden;text-align: left;background-color: #f0f8ff;}#sk-container-id-1 div.sk-toggleable__content pre {margin: 0.2em;color: black;border-radius: 0.25em;background-color: #f0f8ff;}#sk-container-id-1 input.sk-toggleable__control:checked~div.sk-toggleable__content {max-height: 200px;max-width: 100%;overflow: auto;}#sk-container-id-1 input.sk-toggleable__control:checked~label.sk-toggleable__label-arrow:before {content: \"▾\";}#sk-container-id-1 div.sk-estimator input.sk-toggleable__control:checked~label.sk-toggleable__label {background-color: #d4ebff;}#sk-container-id-1 div.sk-label input.sk-toggleable__control:checked~label.sk-toggleable__label {background-color: #d4ebff;}#sk-container-id-1 input.sk-hidden--visually {border: 0;clip: rect(1px 1px 1px 1px);clip: rect(1px, 1px, 1px, 1px);height: 1px;margin: -1px;overflow: hidden;padding: 0;position: absolute;width: 1px;}#sk-container-id-1 div.sk-estimator {font-family: monospace;background-color: #f0f8ff;border: 1px dotted black;border-radius: 0.25em;box-sizing: border-box;margin-bottom: 0.5em;}#sk-container-id-1 div.sk-estimator:hover {background-color: #d4ebff;}#sk-container-id-1 div.sk-parallel-item::after {content: \"\";width: 100%;border-bottom: 1px solid gray;flex-grow: 1;}#sk-container-id-1 div.sk-label:hover label.sk-toggleable__label {background-color: #d4ebff;}#sk-container-id-1 div.sk-serial::before {content: \"\";position: absolute;border-left: 1px solid gray;box-sizing: border-box;top: 0;bottom: 0;left: 50%;z-index: 0;}#sk-container-id-1 div.sk-serial {display: flex;flex-direction: column;align-items: center;background-color: white;padding-right: 0.2em;padding-left: 0.2em;position: relative;}#sk-container-id-1 div.sk-item {position: relative;z-index: 1;}#sk-container-id-1 div.sk-parallel {display: flex;align-items: stretch;justify-content: center;background-color: white;position: relative;}#sk-container-id-1 div.sk-item::before, #sk-container-id-1 div.sk-parallel-item::before {content: \"\";position: absolute;border-left: 1px solid gray;box-sizing: border-box;top: 0;bottom: 0;left: 50%;z-index: -1;}#sk-container-id-1 div.sk-parallel-item {display: flex;flex-direction: column;z-index: 1;position: relative;background-color: white;}#sk-container-id-1 div.sk-parallel-item:first-child::after {align-self: flex-end;width: 50%;}#sk-container-id-1 div.sk-parallel-item:last-child::after {align-self: flex-start;width: 50%;}#sk-container-id-1 div.sk-parallel-item:only-child::after {width: 0;}#sk-container-id-1 div.sk-dashed-wrapped {border: 1px dashed gray;margin: 0 0.4em 0.5em 0.4em;box-sizing: border-box;padding-bottom: 0.4em;background-color: white;}#sk-container-id-1 div.sk-label label {font-family: monospace;font-weight: bold;display: inline-block;line-height: 1.2em;}#sk-container-id-1 div.sk-label-container {text-align: center;}#sk-container-id-1 div.sk-container {/* jupyter's `normalize.less` sets `[hidden] { display: none; }` but bootstrap.min.css set `[hidden] { display: none !important; }` so we also need the `!important` here to be able to override the default hidden behavior on the sphinx rendered scikit-learn.org. See: https://github.com/scikit-learn/scikit-learn/issues/21755 */display: inline-block !important;position: relative;}#sk-container-id-1 div.sk-text-repr-fallback {display: none;}</style><div id=\"sk-container-id-1\" class=\"sk-top-container\"><div class=\"sk-text-repr-fallback\"><pre>MultinomialNB()</pre><b>In a Jupyter environment, please rerun this cell to show the HTML representation or trust the notebook. <br />On GitHub, the HTML representation is unable to render, please try loading this page with nbviewer.org.</b></div><div class=\"sk-container\" hidden><div class=\"sk-item\"><div class=\"sk-estimator sk-toggleable\"><input class=\"sk-toggleable__control sk-hidden--visually\" id=\"sk-estimator-id-1\" type=\"checkbox\" checked><label for=\"sk-estimator-id-1\" class=\"sk-toggleable__label sk-toggleable__label-arrow\">MultinomialNB</label><div class=\"sk-toggleable__content\"><pre>MultinomialNB()</pre></div></div></div></div></div>"
            ]
          },
          "metadata": {},
          "execution_count": 20
        }
      ]
    },
    {
      "cell_type": "code",
      "source": [
        "model.fit(x_train_cv, y_train)"
      ],
      "metadata": {
        "execution": {
          "iopub.status.busy": "2024-03-11T08:16:17.004356Z",
          "iopub.execute_input": "2024-03-11T08:16:17.005138Z",
          "iopub.status.idle": "2024-03-11T08:16:17.390337Z",
          "shell.execute_reply.started": "2024-03-11T08:16:17.005117Z",
          "shell.execute_reply": "2024-03-11T08:16:17.389278Z"
        },
        "trusted": true,
        "id": "9fUbVE7qomY4",
        "outputId": "cbebbc97-262f-4149-88e7-486af6e29d7a",
        "colab": {
          "base_uri": "https://localhost:8080/",
          "height": 75
        }
      },
      "execution_count": 21,
      "outputs": [
        {
          "output_type": "execute_result",
          "data": {
            "text/plain": [
              "MultinomialNB()"
            ],
            "text/html": [
              "<style>#sk-container-id-2 {color: black;background-color: white;}#sk-container-id-2 pre{padding: 0;}#sk-container-id-2 div.sk-toggleable {background-color: white;}#sk-container-id-2 label.sk-toggleable__label {cursor: pointer;display: block;width: 100%;margin-bottom: 0;padding: 0.3em;box-sizing: border-box;text-align: center;}#sk-container-id-2 label.sk-toggleable__label-arrow:before {content: \"▸\";float: left;margin-right: 0.25em;color: #696969;}#sk-container-id-2 label.sk-toggleable__label-arrow:hover:before {color: black;}#sk-container-id-2 div.sk-estimator:hover label.sk-toggleable__label-arrow:before {color: black;}#sk-container-id-2 div.sk-toggleable__content {max-height: 0;max-width: 0;overflow: hidden;text-align: left;background-color: #f0f8ff;}#sk-container-id-2 div.sk-toggleable__content pre {margin: 0.2em;color: black;border-radius: 0.25em;background-color: #f0f8ff;}#sk-container-id-2 input.sk-toggleable__control:checked~div.sk-toggleable__content {max-height: 200px;max-width: 100%;overflow: auto;}#sk-container-id-2 input.sk-toggleable__control:checked~label.sk-toggleable__label-arrow:before {content: \"▾\";}#sk-container-id-2 div.sk-estimator input.sk-toggleable__control:checked~label.sk-toggleable__label {background-color: #d4ebff;}#sk-container-id-2 div.sk-label input.sk-toggleable__control:checked~label.sk-toggleable__label {background-color: #d4ebff;}#sk-container-id-2 input.sk-hidden--visually {border: 0;clip: rect(1px 1px 1px 1px);clip: rect(1px, 1px, 1px, 1px);height: 1px;margin: -1px;overflow: hidden;padding: 0;position: absolute;width: 1px;}#sk-container-id-2 div.sk-estimator {font-family: monospace;background-color: #f0f8ff;border: 1px dotted black;border-radius: 0.25em;box-sizing: border-box;margin-bottom: 0.5em;}#sk-container-id-2 div.sk-estimator:hover {background-color: #d4ebff;}#sk-container-id-2 div.sk-parallel-item::after {content: \"\";width: 100%;border-bottom: 1px solid gray;flex-grow: 1;}#sk-container-id-2 div.sk-label:hover label.sk-toggleable__label {background-color: #d4ebff;}#sk-container-id-2 div.sk-serial::before {content: \"\";position: absolute;border-left: 1px solid gray;box-sizing: border-box;top: 0;bottom: 0;left: 50%;z-index: 0;}#sk-container-id-2 div.sk-serial {display: flex;flex-direction: column;align-items: center;background-color: white;padding-right: 0.2em;padding-left: 0.2em;position: relative;}#sk-container-id-2 div.sk-item {position: relative;z-index: 1;}#sk-container-id-2 div.sk-parallel {display: flex;align-items: stretch;justify-content: center;background-color: white;position: relative;}#sk-container-id-2 div.sk-item::before, #sk-container-id-2 div.sk-parallel-item::before {content: \"\";position: absolute;border-left: 1px solid gray;box-sizing: border-box;top: 0;bottom: 0;left: 50%;z-index: -1;}#sk-container-id-2 div.sk-parallel-item {display: flex;flex-direction: column;z-index: 1;position: relative;background-color: white;}#sk-container-id-2 div.sk-parallel-item:first-child::after {align-self: flex-end;width: 50%;}#sk-container-id-2 div.sk-parallel-item:last-child::after {align-self: flex-start;width: 50%;}#sk-container-id-2 div.sk-parallel-item:only-child::after {width: 0;}#sk-container-id-2 div.sk-dashed-wrapped {border: 1px dashed gray;margin: 0 0.4em 0.5em 0.4em;box-sizing: border-box;padding-bottom: 0.4em;background-color: white;}#sk-container-id-2 div.sk-label label {font-family: monospace;font-weight: bold;display: inline-block;line-height: 1.2em;}#sk-container-id-2 div.sk-label-container {text-align: center;}#sk-container-id-2 div.sk-container {/* jupyter's `normalize.less` sets `[hidden] { display: none; }` but bootstrap.min.css set `[hidden] { display: none !important; }` so we also need the `!important` here to be able to override the default hidden behavior on the sphinx rendered scikit-learn.org. See: https://github.com/scikit-learn/scikit-learn/issues/21755 */display: inline-block !important;position: relative;}#sk-container-id-2 div.sk-text-repr-fallback {display: none;}</style><div id=\"sk-container-id-2\" class=\"sk-top-container\"><div class=\"sk-text-repr-fallback\"><pre>MultinomialNB()</pre><b>In a Jupyter environment, please rerun this cell to show the HTML representation or trust the notebook. <br />On GitHub, the HTML representation is unable to render, please try loading this page with nbviewer.org.</b></div><div class=\"sk-container\" hidden><div class=\"sk-item\"><div class=\"sk-estimator sk-toggleable\"><input class=\"sk-toggleable__control sk-hidden--visually\" id=\"sk-estimator-id-2\" type=\"checkbox\" checked><label for=\"sk-estimator-id-2\" class=\"sk-toggleable__label sk-toggleable__label-arrow\">MultinomialNB</label><div class=\"sk-toggleable__content\"><pre>MultinomialNB()</pre></div></div></div></div></div>"
            ]
          },
          "metadata": {},
          "execution_count": 21
        }
      ]
    },
    {
      "cell_type": "code",
      "source": [
        "x_test_cv = count_vectorizer.transform(x_test).toarray()\n",
        "x_test_cv"
      ],
      "metadata": {
        "execution": {
          "iopub.status.busy": "2024-03-11T08:16:17.391494Z",
          "iopub.execute_input": "2024-03-11T08:16:17.391753Z",
          "iopub.status.idle": "2024-03-11T08:16:17.422467Z",
          "shell.execute_reply.started": "2024-03-11T08:16:17.391733Z",
          "shell.execute_reply": "2024-03-11T08:16:17.42143Z"
        },
        "trusted": true,
        "id": "6jG2kqPxomY5",
        "outputId": "df292014-6282-49f5-df0b-4594c86b6599",
        "colab": {
          "base_uri": "https://localhost:8080/"
        }
      },
      "execution_count": 22,
      "outputs": [
        {
          "output_type": "execute_result",
          "data": {
            "text/plain": [
              "array([[0, 0, 0, ..., 0, 0, 0],\n",
              "       [0, 0, 0, ..., 0, 0, 0],\n",
              "       [0, 0, 0, ..., 0, 0, 0],\n",
              "       ...,\n",
              "       [0, 0, 0, ..., 0, 0, 0],\n",
              "       [0, 0, 0, ..., 0, 0, 0],\n",
              "       [0, 0, 0, ..., 0, 0, 0]])"
            ]
          },
          "metadata": {},
          "execution_count": 22
        }
      ]
    },
    {
      "cell_type": "code",
      "source": [
        "y_pred = model.predict(x_test_cv)\n",
        "y_pred"
      ],
      "metadata": {
        "execution": {
          "iopub.status.busy": "2024-03-11T08:16:17.423653Z",
          "iopub.execute_input": "2024-03-11T08:16:17.423955Z",
          "iopub.status.idle": "2024-03-11T08:16:17.455794Z",
          "shell.execute_reply.started": "2024-03-11T08:16:17.423929Z",
          "shell.execute_reply": "2024-03-11T08:16:17.454965Z"
        },
        "trusted": true,
        "id": "wpfYSZunomY5",
        "outputId": "f429b53c-8576-46b4-c7d7-cb553eb344f7",
        "colab": {
          "base_uri": "https://localhost:8080/"
        }
      },
      "execution_count": 23,
      "outputs": [
        {
          "output_type": "execute_result",
          "data": {
            "text/plain": [
              "array([1, 1, 1, ..., 0, 1, 1])"
            ]
          },
          "metadata": {},
          "execution_count": 23
        }
      ]
    },
    {
      "cell_type": "markdown",
      "source": [
        "# Evaluating the Model"
      ],
      "metadata": {
        "id": "hPVaKXjgomY5"
      }
    },
    {
      "cell_type": "code",
      "source": [
        "print(classification_report(y_test, y_pred))"
      ],
      "metadata": {
        "execution": {
          "iopub.status.busy": "2024-03-11T08:16:17.457001Z",
          "iopub.execute_input": "2024-03-11T08:16:17.45745Z",
          "iopub.status.idle": "2024-03-11T08:16:17.47046Z",
          "shell.execute_reply.started": "2024-03-11T08:16:17.457426Z",
          "shell.execute_reply": "2024-03-11T08:16:17.469766Z"
        },
        "trusted": true,
        "id": "jAzzNkjdomY5",
        "outputId": "52c1c600-1b4e-48b1-bbd2-caeebf3b1cbd",
        "colab": {
          "base_uri": "https://localhost:8080/"
        }
      },
      "execution_count": 24,
      "outputs": [
        {
          "output_type": "stream",
          "name": "stdout",
          "text": [
            "              precision    recall  f1-score   support\n",
            "\n",
            "           0       0.99      0.89      0.94       150\n",
            "           1       0.98      1.00      0.99       965\n",
            "\n",
            "    accuracy                           0.98      1115\n",
            "   macro avg       0.99      0.95      0.97      1115\n",
            "weighted avg       0.98      0.98      0.98      1115\n",
            "\n"
          ]
        }
      ]
    },
    {
      "cell_type": "markdown",
      "source": [
        "# Some Cool Visualization"
      ],
      "metadata": {
        "id": "70t4aIyNomY5"
      }
    },
    {
      "cell_type": "code",
      "source": [
        "email = data.iloc[0].text\n",
        "print(email)"
      ],
      "metadata": {
        "execution": {
          "iopub.status.busy": "2024-03-11T08:16:17.471465Z",
          "iopub.execute_input": "2024-03-11T08:16:17.471921Z",
          "iopub.status.idle": "2024-03-11T08:16:17.476339Z",
          "shell.execute_reply.started": "2024-03-11T08:16:17.471881Z",
          "shell.execute_reply": "2024-03-11T08:16:17.475576Z"
        },
        "trusted": true,
        "id": "HAx2SwR6omY5",
        "outputId": "87736ac7-23e6-4d02-f227-adffce5c3160",
        "colab": {
          "base_uri": "https://localhost:8080/"
        }
      },
      "execution_count": 25,
      "outputs": [
        {
          "output_type": "stream",
          "name": "stdout",
          "text": [
            "Go until jurong point, crazy.. Available only in bugis n great world la e buffet... Cine there got amore wat...\n"
          ]
        }
      ]
    },
    {
      "cell_type": "code",
      "source": [
        "mail_word_cloud = WordCloud(width=512, height=512).generate(email.replace('.', ''))"
      ],
      "metadata": {
        "execution": {
          "iopub.status.busy": "2024-03-11T08:16:17.477327Z",
          "iopub.execute_input": "2024-03-11T08:16:17.477721Z",
          "iopub.status.idle": "2024-03-11T08:16:17.751054Z",
          "shell.execute_reply.started": "2024-03-11T08:16:17.477699Z",
          "shell.execute_reply": "2024-03-11T08:16:17.750399Z"
        },
        "trusted": true,
        "id": "xImyiGnaomY6"
      },
      "execution_count": 26,
      "outputs": []
    },
    {
      "cell_type": "code",
      "source": [
        "plt.figure(figsize = (10, 8), facecolor = 'k')\n",
        "plt.imshow(mail_word_cloud)"
      ],
      "metadata": {
        "execution": {
          "iopub.status.busy": "2024-03-11T08:16:17.752541Z",
          "iopub.execute_input": "2024-03-11T08:16:17.753308Z",
          "iopub.status.idle": "2024-03-11T08:16:18.085049Z",
          "shell.execute_reply.started": "2024-03-11T08:16:17.75327Z",
          "shell.execute_reply": "2024-03-11T08:16:18.084391Z"
        },
        "trusted": true,
        "id": "j_2bvSg_omY6",
        "outputId": "ac294554-136c-4da6-9eff-ddc726035af4",
        "colab": {
          "base_uri": "https://localhost:8080/",
          "height": 698
        }
      },
      "execution_count": 27,
      "outputs": [
        {
          "output_type": "execute_result",
          "data": {
            "text/plain": [
              "<matplotlib.image.AxesImage at 0x7ff6c8e25ba0>"
            ]
          },
          "metadata": {},
          "execution_count": 27
        },
        {
          "output_type": "display_data",
          "data": {
            "text/plain": [
              "<Figure size 1000x800 with 1 Axes>"
            ],
            "image/png": "[encoded data removed]"
          },
          "metadata": {}
        }
      ]
    },
    {
      "cell_type": "code",
      "source": [
        "!pip install gradio"
      ],
      "metadata": {
        "execution": {
          "iopub.status.busy": "2024-03-11T08:17:01.764297Z",
          "iopub.execute_input": "2024-03-11T08:17:01.76458Z",
          "iopub.status.idle": "2024-03-11T08:17:18.173892Z",
          "shell.execute_reply.started": "2024-03-11T08:17:01.764559Z",
          "shell.execute_reply": "2024-03-11T08:17:18.173161Z"
        },
        "trusted": true,
        "id": "Wmpolo7NomY6",
        "outputId": "cb84a6a8-03ea-409b-c375-6277bce6f7bb",
        "colab": {
          "base_uri": "https://localhost:8080/"
        }
      },
      "execution_count": 28,
      "outputs": [
        {
          "output_type": "stream",
          "name": "stdout",
          "text": [
            "Collecting gradio\n",
            "  Downloading gradio-4.21.0-py3-none-any.whl (17.0 MB)\n",
            "\u001b[2K     \u001b[90m━━━━━━━━━━━━━━━━━━━━━━━━━━━━━━━━━━━━━━━━\u001b[0m \u001b[32m17.0/17.0 MB\u001b[0m \u001b[31m33.8 MB/s\u001b[0m eta \u001b[36m0:00:00\u001b[0m\n",
            "\u001b[?25hCollecting aiofiles<24.0,>=22.0 (from gradio)\n",
            "  Downloading aiofiles-23.2.1-py3-none-any.whl (15 kB)\n",
            "Requirement already satisfied: altair<6.0,>=4.2.0 in /usr/local/lib/python3.10/dist-packages (from gradio) (4.2.2)\n",
            "Collecting fastapi (from gradio)\n",
            "  Downloading fastapi-0.110.0-py3-none-any.whl (92 kB)\n",
            "\u001b[2K     \u001b[90m━━━━━━━━━━━━━━━━━━━━━━━━━━━━━━━━━━━━━━━━\u001b[0m \u001b[32m92.1/92.1 kB\u001b[0m \u001b[31m10.8 MB/s\u001b[0m eta \u001b[36m0:00:00\u001b[0m\n",
            "\u001b[?25hCollecting ffmpy (from gradio)\n",
            "  Downloading ffmpy-0.3.2.tar.gz (5.5 kB)\n",
            "  Preparing metadata (setup.py) ... \u001b[?25l\u001b[?25hdone\n",
            "Collecting gradio-client==0.12.0 (from gradio)\n",
            "  Downloading gradio_client-0.12.0-py3-none-any.whl (310 kB)\n",
            "\u001b[2K     \u001b[90m━━━━━━━━━━━━━━━━━━━━━━━━━━━━━━━━━━━━━━━━\u001b[0m \u001b[32m310.7/310.7 kB\u001b[0m \u001b[31m24.0 MB/s\u001b[0m eta \u001b[36m0:00:00\u001b[0m\n",
            "\u001b[?25hCollecting httpx>=0.24.1 (from gradio)\n",
            "  Downloading httpx-0.27.0-py3-none-any.whl (75 kB)\n",
            "\u001b[2K     \u001b[90m━━━━━━━━━━━━━━━━━━━━━━━━━━━━━━━━━━━━━━━━\u001b[0m \u001b[32m75.6/75.6 kB\u001b[0m \u001b[31m6.6 MB/s\u001b[0m eta \u001b[36m0:00:00\u001b[0m\n",
            "\u001b[?25hRequirement already satisfied: huggingface-hub>=0.19.3 in /usr/local/lib/python3.10/dist-packages (from gradio) (0.20.3)\n",
            "Requirement already satisfied: importlib-resources<7.0,>=1.3 in /usr/local/lib/python3.10/dist-packages (from gradio) (6.1.2)\n",
            "Requirement already satisfied: jinja2<4.0 in /usr/local/lib/python3.10/dist-packages (from gradio) (3.1.3)\n",
            "Requirement already satisfied: markupsafe~=2.0 in /usr/local/lib/python3.10/dist-packages (from gradio) (2.1.5)\n",
            "Requirement already satisfied: matplotlib~=3.0 in /usr/local/lib/python3.10/dist-packages (from gradio) (3.7.1)\n",
            "Requirement already satisfied: numpy~=1.0 in /usr/local/lib/python3.10/dist-packages (from gradio) (1.25.2)\n",
            "Collecting orjson~=3.0 (from gradio)\n",
            "  Downloading orjson-3.9.15-cp310-cp310-manylinux_2_17_x86_64.manylinux2014_x86_64.whl (138 kB)\n",
            "\u001b[2K     \u001b[90m━━━━━━━━━━━━━━━━━━━━━━━━━━━━━━━━━━━━━━━━\u001b[0m \u001b[32m138.5/138.5 kB\u001b[0m \u001b[31m13.0 MB/s\u001b[0m eta \u001b[36m0:00:00\u001b[0m\n",
            "\u001b[?25hRequirement already satisfied: packaging in /usr/local/lib/python3.10/dist-packages (from gradio) (23.2)\n",
            "Requirement already satisfied: pandas<3.0,>=1.0 in /usr/local/lib/python3.10/dist-packages (from gradio) (1.5.3)\n",
            "Requirement already satisfied: pillow<11.0,>=8.0 in /usr/local/lib/python3.10/dist-packages (from gradio) (9.4.0)\n",
            "Requirement already satisfied: pydantic>=2.0 in /usr/local/lib/python3.10/dist-packages (from gradio) (2.6.3)\n",
            "Collecting pydub (from gradio)\n",
            "  Downloading pydub-0.25.1-py2.py3-none-any.whl (32 kB)\n",
            "Collecting python-multipart>=0.0.9 (from gradio)\n",
            "  Downloading python_multipart-0.0.9-py3-none-any.whl (22 kB)\n",
            "Requirement already satisfied: pyyaml<7.0,>=5.0 in /usr/local/lib/python3.10/dist-packages (from gradio) (6.0.1)\n",
            "Collecting ruff>=0.2.2 (from gradio)\n",
            "  Downloading ruff-0.3.2-py3-none-manylinux_2_17_x86_64.manylinux2014_x86_64.whl (7.9 MB)\n",
            "\u001b[2K     \u001b[90m━━━━━━━━━━━━━━━━━━━━━━━━━━━━━━━━━━━━━━━━\u001b[0m \u001b[32m7.9/7.9 MB\u001b[0m \u001b[31m39.8 MB/s\u001b[0m eta \u001b[36m0:00:00\u001b[0m\n",
            "\u001b[?25hCollecting semantic-version~=2.0 (from gradio)\n",
            "  Downloading semantic_version-2.10.0-py2.py3-none-any.whl (15 kB)\n",
            "Collecting tomlkit==0.12.0 (from gradio)\n",
            "  Downloading tomlkit-0.12.0-py3-none-any.whl (37 kB)\n",
            "Requirement already satisfied: typer[all]<1.0,>=0.9 in /usr/local/lib/python3.10/dist-packages (from gradio) (0.9.0)\n",
            "Requirement already satisfied: typing-extensions~=4.0 in /usr/local/lib/python3.10/dist-packages (from gradio) (4.10.0)\n",
            "Collecting uvicorn>=0.14.0 (from gradio)\n",
            "  Downloading uvicorn-0.28.0-py3-none-any.whl (60 kB)\n",
            "\u001b[2K     \u001b[90m━━━━━━━━━━━━━━━━━━━━━━━━━━━━━━━━━━━━━━━━\u001b[0m \u001b[32m60.6/60.6 kB\u001b[0m \u001b[31m5.8 MB/s\u001b[0m eta \u001b[36m0:00:00\u001b[0m\n",
            "\u001b[?25hRequirement already satisfied: fsspec in /usr/local/lib/python3.10/dist-packages (from gradio-client==0.12.0->gradio) (2023.6.0)\n",
            "Collecting websockets<12.0,>=10.0 (from gradio-client==0.12.0->gradio)\n",
            "  Downloading websockets-11.0.3-cp310-cp310-manylinux_2_5_x86_64.manylinux1_x86_64.manylinux_2_17_x86_64.manylinux2014_x86_64.whl (129 kB)\n",
            "\u001b[2K     \u001b[90m━━━━━━━━━━━━━━━━━━━━━━━━━━━━━━━━━━━━━━━━\u001b[0m \u001b[32m129.9/129.9 kB\u001b[0m \u001b[31m11.7 MB/s\u001b[0m eta \u001b[36m0:00:00\u001b[0m\n",
            "\u001b[?25hRequirement already satisfied: entrypoints in /usr/local/lib/python3.10/dist-packages (from altair<6.0,>=4.2.0->gradio) (0.4)\n",
            "Requirement already satisfied: jsonschema>=3.0 in /usr/local/lib/python3.10/dist-packages (from altair<6.0,>=4.2.0->gradio) (4.19.2)\n",
            "Requirement already satisfied: toolz in /usr/local/lib/python3.10/dist-packages (from altair<6.0,>=4.2.0->gradio) (0.12.1)\n",
            "Requirement already satisfied: anyio in /usr/local/lib/python3.10/dist-packages (from httpx>=0.24.1->gradio) (3.7.1)\n",
            "Requirement already satisfied: certifi in /usr/local/lib/python3.10/dist-packages (from httpx>=0.24.1->gradio) (2024.2.2)\n",
            "Collecting httpcore==1.* (from httpx>=0.24.1->gradio)\n",
            "  Downloading httpcore-1.0.4-py3-none-any.whl (77 kB)\n",
            "\u001b[2K     \u001b[90m━━━━━━━━━━━━━━━━━━━━━━━━━━━━━━━━━━━━━━━━\u001b[0m \u001b[32m77.8/77.8 kB\u001b[0m \u001b[31m8.2 MB/s\u001b[0m eta \u001b[36m0:00:00\u001b[0m\n",
            "\u001b[?25hRequirement already satisfied: idna in /usr/local/lib/python3.10/dist-packages (from httpx>=0.24.1->gradio) (3.6)\n",
            "Requirement already satisfied: sniffio in /usr/local/lib/python3.10/dist-packages (from httpx>=0.24.1->gradio) (1.3.1)\n",
            "Collecting h11<0.15,>=0.13 (from httpcore==1.*->httpx>=0.24.1->gradio)\n",
            "  Downloading h11-0.14.0-py3-none-any.whl (58 kB)\n",
            "\u001b[2K     \u001b[90m━━━━━━━━━━━━━━━━━━━━━━━━━━━━━━━━━━━━━━━━\u001b[0m \u001b[32m58.3/58.3 kB\u001b[0m \u001b[31m5.6 MB/s\u001b[0m eta \u001b[36m0:00:00\u001b[0m\n",
            "\u001b[?25hRequirement already satisfied: filelock in /usr/local/lib/python3.10/dist-packages (from huggingface-hub>=0.19.3->gradio) (3.13.1)\n",
            "Requirement already satisfied: requests in /usr/local/lib/python3.10/dist-packages (from huggingface-hub>=0.19.3->gradio) (2.31.0)\n",
            "Requirement already satisfied: tqdm>=4.42.1 in /usr/local/lib/python3.10/dist-packages (from huggingface-hub>=0.19.3->gradio) (4.66.2)\n",
            "Requirement already satisfied: contourpy>=1.0.1 in /usr/local/lib/python3.10/dist-packages (from matplotlib~=3.0->gradio) (1.2.0)\n",
            "Requirement already satisfied: cycler>=0.10 in /usr/local/lib/python3.10/dist-packages (from matplotlib~=3.0->gradio) (0.12.1)\n",
            "Requirement already satisfied: fonttools>=4.22.0 in /usr/local/lib/python3.10/dist-packages (from matplotlib~=3.0->gradio) (4.49.0)\n",
            "Requirement already satisfied: kiwisolver>=1.0.1 in /usr/local/lib/python3.10/dist-packages (from matplotlib~=3.0->gradio) (1.4.5)\n",
            "Requirement already satisfied: pyparsing>=2.3.1 in /usr/local/lib/python3.10/dist-packages (from matplotlib~=3.0->gradio) (3.1.1)\n",
            "Requirement already satisfied: python-dateutil>=2.7 in /usr/local/lib/python3.10/dist-packages (from matplotlib~=3.0->gradio) (2.8.2)\n",
            "Requirement already satisfied: pytz>=2020.1 in /usr/local/lib/python3.10/dist-packages (from pandas<3.0,>=1.0->gradio) (2023.4)\n",
            "Requirement already satisfied: annotated-types>=0.4.0 in /usr/local/lib/python3.10/dist-packages (from pydantic>=2.0->gradio) (0.6.0)\n",
            "Requirement already satisfied: pydantic-core==2.16.3 in /usr/local/lib/python3.10/dist-packages (from pydantic>=2.0->gradio) (2.16.3)\n",
            "Requirement already satisfied: click<9.0.0,>=7.1.1 in /usr/local/lib/python3.10/dist-packages (from typer[all]<1.0,>=0.9->gradio) (8.1.7)\n",
            "Collecting colorama<0.5.0,>=0.4.3 (from typer[all]<1.0,>=0.9->gradio)\n",
            "  Downloading colorama-0.4.6-py2.py3-none-any.whl (25 kB)\n",
            "Collecting shellingham<2.0.0,>=1.3.0 (from typer[all]<1.0,>=0.9->gradio)\n",
            "  Downloading shellingham-1.5.4-py2.py3-none-any.whl (9.8 kB)\n",
            "Requirement already satisfied: rich<14.0.0,>=10.11.0 in /usr/local/lib/python3.10/dist-packages (from typer[all]<1.0,>=0.9->gradio) (13.7.1)\n",
            "Collecting starlette<0.37.0,>=0.36.3 (from fastapi->gradio)\n",
            "  Downloading starlette-0.36.3-py3-none-any.whl (71 kB)\n",
            "\u001b[2K     \u001b[90m━━━━━━━━━━━━━━━━━━━━━━━━━━━━━━━━━━━━━━━━\u001b[0m \u001b[32m71.5/71.5 kB\u001b[0m \u001b[31m6.6 MB/s\u001b[0m eta \u001b[36m0:00:00\u001b[0m\n",
            "\u001b[?25hRequirement already satisfied: attrs>=22.2.0 in /usr/local/lib/python3.10/dist-packages (from jsonschema>=3.0->altair<6.0,>=4.2.0->gradio) (23.2.0)\n",
            "Requirement already satisfied: jsonschema-specifications>=2023.03.6 in /usr/local/lib/python3.10/dist-packages (from jsonschema>=3.0->altair<6.0,>=4.2.0->gradio) (2023.12.1)\n",
            "Requirement already satisfied: referencing>=0.28.4 in /usr/local/lib/python3.10/dist-packages (from jsonschema>=3.0->altair<6.0,>=4.2.0->gradio) (0.33.0)\n",
            "Requirement already satisfied: rpds-py>=0.7.1 in /usr/local/lib/python3.10/dist-packages (from jsonschema>=3.0->altair<6.0,>=4.2.0->gradio) (0.18.0)\n",
            "Requirement already satisfied: six>=1.5 in /usr/local/lib/python3.10/dist-packages (from python-dateutil>=2.7->matplotlib~=3.0->gradio) (1.16.0)\n",
            "Requirement already satisfied: markdown-it-py>=2.2.0 in /usr/local/lib/python3.10/dist-packages (from rich<14.0.0,>=10.11.0->typer[all]<1.0,>=0.9->gradio) (3.0.0)\n",
            "Requirement already satisfied: pygments<3.0.0,>=2.13.0 in /usr/local/lib/python3.10/dist-packages (from rich<14.0.0,>=10.11.0->typer[all]<1.0,>=0.9->gradio) (2.16.1)\n",
            "Requirement already satisfied: exceptiongroup in /usr/local/lib/python3.10/dist-packages (from anyio->httpx>=0.24.1->gradio) (1.2.0)\n",
            "Requirement already satisfied: charset-normalizer<4,>=2 in /usr/local/lib/python3.10/dist-packages (from requests->huggingface-hub>=0.19.3->gradio) (3.3.2)\n",
            "Requirement already satisfied: urllib3<3,>=1.21.1 in /usr/local/lib/python3.10/dist-packages (from requests->huggingface-hub>=0.19.3->gradio) (2.0.7)\n",
            "Requirement already satisfied: mdurl~=0.1 in /usr/local/lib/python3.10/dist-packages (from markdown-it-py>=2.2.0->rich<14.0.0,>=10.11.0->typer[all]<1.0,>=0.9->gradio) (0.1.2)\n",
            "Building wheels for collected packages: ffmpy\n",
            "  Building wheel for ffmpy (setup.py) ... \u001b[?25l\u001b[?25hdone\n",
            "  Created wheel for ffmpy: filename=ffmpy-0.3.2-py3-none-any.whl size=5584 sha256=2d1da31522cc5946f78b74676eb020a107516f95998953a22bee903499a62036\n",
            "  Stored in directory: /root/.cache/pip/wheels/bd/65/9a/671fc6dcde07d4418df0c592f8df512b26d7a0029c2a23dd81\n",
            "Successfully built ffmpy\n",
            "Installing collected packages: pydub, ffmpy, websockets, tomlkit, shellingham, semantic-version, ruff, python-multipart, orjson, h11, colorama, aiofiles, uvicorn, starlette, httpcore, httpx, fastapi, gradio-client, gradio\n",
            "Successfully installed aiofiles-23.2.1 colorama-0.4.6 fastapi-0.110.0 ffmpy-0.3.2 gradio-4.21.0 gradio-client-0.12.0 h11-0.14.0 httpcore-1.0.4 httpx-0.27.0 orjson-3.9.15 pydub-0.25.1 python-multipart-0.0.9 ruff-0.3.2 semantic-version-2.10.0 shellingham-1.5.4 starlette-0.36.3 tomlkit-0.12.0 uvicorn-0.28.0 websockets-11.0.3\n"
          ]
        }
      ]
    },
    {
      "cell_type": "code",
      "source": [
        "import gradio as gr"
      ],
      "metadata": {
        "execution": {
          "iopub.status.busy": "2024-03-11T08:17:21.329434Z",
          "iopub.execute_input": "2024-03-11T08:17:21.329661Z",
          "iopub.status.idle": "2024-03-11T08:17:21.332629Z",
          "shell.execute_reply.started": "2024-03-11T08:17:21.329641Z",
          "shell.execute_reply": "2024-03-11T08:17:21.332082Z"
        },
        "trusted": true,
        "id": "elBxwmMwomY6"
      },
      "execution_count": 29,
      "outputs": []
    },
    {
      "cell_type": "code",
      "source": [
        "def check_message(message):\n",
        "    message_cv = count_vectorizer.transform([message]).toarray()\n",
        "    prediction = \"Ham\" if model.predict(message_cv)[0] == 1 else \"Spam\"\n",
        "\n",
        "    figure = plt.figure(figsize = (10, 8), facecolor = 'k')\n",
        "    plt.imshow(WordCloud(width=512, height=512).generate(message.replace('.', '')))\n",
        "\n",
        "    return figure, prediction"
      ],
      "metadata": {
        "execution": {
          "iopub.status.busy": "2024-03-11T08:24:15.446275Z",
          "iopub.execute_input": "2024-03-11T08:24:15.446584Z",
          "iopub.status.idle": "2024-03-11T08:24:15.451331Z",
          "shell.execute_reply.started": "2024-03-11T08:24:15.446561Z",
          "shell.execute_reply": "2024-03-11T08:24:15.450559Z"
        },
        "trusted": true,
        "id": "RkGM9_hAomY6"
      },
      "execution_count": 53,
      "outputs": []
    },
    {
      "cell_type": "code",
      "source": [
        "check_message(\"Go until jurong point, crazy.. Available only in bugis n great world la e buffet... Cine there got amore wat...\")"
      ],
      "metadata": {
        "id": "90vIntevpCSm",
        "outputId": "ccf5405f-1062-4fc8-c36d-7d6187e4bf8b",
        "colab": {
          "base_uri": "https://localhost:8080/",
          "height": 698
        }
      },
      "execution_count": 54,
      "outputs": [
        {
          "output_type": "execute_result",
          "data": {
            "text/plain": [
              "(<Figure size 1000x800 with 1 Axes>, 'Ham')"
            ]
          },
          "metadata": {},
          "execution_count": 54
        },
        {
          "output_type": "display_data",
          "data": {
            "text/plain": [
              "<Figure size 1000x800 with 1 Axes>"
            ],
            "image/png": "[encoded data removed]"
          },
          "metadata": {}
        }
      ]
    },
    {
      "cell_type": "code",
      "source": [
        "interface = gr.Interface(check_message, inputs=gr.Textbox(label=\"Message\", placeholder=\"Write a text message...\", max_lines=10), outputs=[gr.Plot(label=' '), gr.Text(label=' ')])"
      ],
      "metadata": {
        "execution": {
          "iopub.status.busy": "2024-03-11T08:28:54.578226Z",
          "iopub.execute_input": "2024-03-11T08:28:54.57855Z",
          "iopub.status.idle": "2024-03-11T08:28:54.895263Z",
          "shell.execute_reply.started": "2024-03-11T08:28:54.578527Z",
          "shell.execute_reply": "2024-03-11T08:28:54.894547Z"
        },
        "trusted": true,
        "id": "XoOQk7b9omY6"
      },
      "execution_count": 55,
      "outputs": []
    },
    {
      "cell_type": "code",
      "source": [
        "interface.launch()"
      ],
      "metadata": {
        "execution": {
          "iopub.status.busy": "2024-03-11T08:29:06.063228Z",
          "iopub.execute_input": "2024-03-11T08:29:06.063547Z",
          "iopub.status.idle": "2024-03-11T08:29:18.25502Z",
          "shell.execute_reply.started": "2024-03-11T08:29:06.063525Z",
          "shell.execute_reply": "2024-03-11T08:29:18.254177Z"
        },
        "trusted": true,
        "id": "GL3Wq7DlomY6",
        "outputId": "4d26af5c-3860-4b72-b182-482ac1efb1d0",
        "colab": {
          "base_uri": "https://localhost:8080/",
          "height": 646
        }
      },
      "execution_count": 56,
      "outputs": [
        {
          "output_type": "stream",
          "name": "stdout",
          "text": [
            "Setting queue=True in a Colab notebook requires sharing enabled. Setting `share=True` (you can turn this off by setting `share=False` in `launch()` explicitly).\n",
            "\n",
            "Colab notebook detected. To show errors in colab notebook, set debug=True in launch()\n",
            "Running on public URL: https://ae16fd7f6219ac5f3e.gradio.live\n",
            "\n",
            "This share link expires in 72 hours. For free permanent hosting and GPU upgrades, run `gradio deploy` from Terminal to deploy to Spaces (https://huggingface.co/spaces)\n"
          ]
        },
        {
          "output_type": "display_data",
          "data": {
            "text/plain": [
              "<IPython.core.display.HTML object>"
            ],
            "text/html": [
              "<div><iframe src=\"https://ae16fd7f6219ac5f3e.gradio.live\" width=\"100%\" height=\"500\" allow=\"autoplay; camera; microphone; clipboard-read; clipboard-write;\" frameborder=\"0\" allowfullscreen></iframe></div>"
            ]
          },
          "metadata": {}
        },
        {
          "output_type": "execute_result",
          "data": {
            "text/plain": []
          },
          "metadata": {},
          "execution_count": 56
        }
      ]
    }
  ]
}